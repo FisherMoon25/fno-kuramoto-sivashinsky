{
  "cells": [
    {
      "cell_type": "markdown",
      "metadata": {
        "id": "_43dI25BsvuP"
      },
      "source": [
        "# Exploration avancée de l'équation de Kuramoto avec Fourier Neural Operators (FNO)\n",
        "\n",
        "Dans ce notebook, nous plongeons dans une analyse approfondie de l'équation de Kuramoto avec coefficients variables, en utilisant des Fourier Neural Operators (FNO). Notre objectif est d'explorer la flexibilité et la robustesse de ces modèles face à différentes configurations et contextes temporels.\n",
        "\n",
        "## Équation de Kuramoto avec coefficients\n",
        "\n",
        "Nous étudions l'équation de Kuramoto sous la forme :\n",
        "\n",
        " $$u_t = -\\gamma  uu_x - \\beta  u_{xx} - \\alpha  u_{xxxx}$$\n",
        "\n",
        "\n",
        "\n",
        "## Expériences clés\n",
        "\n",
        "1. **Entraînement sur coefficients multiples**\n",
        "   - Construction de 4 jeux de données avec des coefficients différents\n",
        "   \n",
        "2. **Test de généralisation**\n",
        "   - Fusion de 3 jeux de données\n",
        "   - Évaluation de la capacité du modèle à prédire sur ce jeu fusionné\n",
        "\n",
        "3. **Incorporation du contexte temporel**\n",
        "   - Nouvelle structure de données : input = [u(t-2), u(t-1), u(t)]\n",
        "   - Output : séquence [u(t+1), ..., u(t+20)]\n",
        "   - Test de la performance du modèle avec ce contexte étendu\n",
        "\n",
        "\n",
        "\n",
        "# Résultats\n",
        "\n",
        "## 1. Prédiction avec coefficients multiples\n",
        "\n",
        "Le modèle FNO a démontré une capacité à prédire les solutions de l'équation de Kuramoto-Sivashinsky (KS) pour différents jeux de coefficients. Cette performance suggère que le FNO est capable de capturer efficacement la dynamique non-linéaire complexe de l'équation KS, caractérisée par:\n",
        "\n",
        "## 2. Test de généralisation sur jeux de données fusionnés\n",
        "\n",
        "Lors de la fusion de deux jeux de données avec des coefficients différents, le modèle a montré des signes de difficulté, mais ses performances restent meilleures que prévu initialement. Cela suggère que :\n",
        "\n",
        "1. **Robustesse partielle** : Le FNO a une certaine capacité à généraliser à travers différents régimes de l'équation KS.\n",
        "2. **Limites de généralisation** : Il existe un seuil au-delà duquel le modèle commence à avoir des difficultés, probablement lorsque les dynamiques deviennent trop diverses.\n",
        "\n",
        "3. **Contraintes techniques** : La limitation à deux jeux de données fusionnés due aux problèmes de RAM souligne un défi pratique dans l'entraînement de modèles sur des espaces de paramètres plus larges.\n",
        "\n",
        "## 3. Incorporation du contexte temporel\n",
        "\n",
        "L'ajout d'un contexte temporel étendu (utilisant [u(t-2), u(t-1), u(t)] comme entrée) présente plusieurs avantages rigoureux :\n",
        "\n",
        "1. **Capture de la dynamique temporelle** : \n",
        "   - L'équation KS est un système dynamique où l'état futur dépend de l'historique récent.\n",
        "   - L'inclusion de plusieurs pas de temps permet au modèle de mieux approximer la dérivée temporelle $u_t$.\n",
        "\n",
        "2. **Réduction du problème de décorrélation temporelle** :\n",
        "   - Dans les systèmes chaotiques comme KS, les prédictions à long terme sont intrinsèquement difficiles.\n",
        "   - Un contexte temporel plus riche permet au modèle de mieux capturer les tendances à court terme, améliorant potentiellement la stabilité des prédictions à plus long terme.\n",
        "\n",
        "\n",
        "\n",
        "3. **Analogie avec les méthodes numériques d'ordre supérieur** :\n",
        "   - L'utilisation de plusieurs pas de temps est analogue aux schémas numériques multi-pas utilisés dans les méthodes classiques de résolution d'EDPs.\n",
        "   - Cela permet potentiellement une meilleure approximation des dérivées temporelles.\n",
        "\n",
        "Ces avantages théoriques se traduisent probablement par une amélioration des performances prédictives, en particulier pour les séquences plus longues [u(t+1), ..., u(t+20)]. Cependant, il serait intéressant de quantifier précisément ces améliorations par rapport à un modèle n'utilisant qu'un seul pas de temps en entrée.\n",
        "\n"
      ]
    },
    {
      "cell_type": "code",
      "execution_count": 1,
      "metadata": {
        "colab": {
          "base_uri": "https://localhost:8080/"
        },
        "id": "EPY1MBxhCKb6",
        "outputId": "696baf98-35d5-4f5f-9845-8d415716d90d"
      },
      "outputs": [
        {
          "name": "stdout",
          "output_type": "stream",
          "text": [
            "cuda\n"
          ]
        }
      ],
      "source": [
        "import os\n",
        "import sys\n",
        "import random\n",
        "from typing import Optional, Tuple\n",
        "\n",
        "import numpy as np\n",
        "import matplotlib.pyplot as plt\n",
        "from scipy.fft import fftn, ifftn, fftfreq\n",
        "from scipy.fftpack import diff as psdiff\n",
        "from scipy.integrate import solve_ivp\n",
        "\n",
        "import torch\n",
        "import torch.nn as nn\n",
        "import torch.nn.functional as F\n",
        "import torch.optim as optim\n",
        "from torch.utils.data import DataLoader, TensorDataset\n",
        "from torch.optim.lr_scheduler import ReduceLROnPlateau\n",
        "\n",
        "device = torch.device(\"cuda\" if torch.cuda.is_available() else \"cpu\")\n",
        "print(device)\n",
        "\n",
        "%matplotlib inline\n"
      ]
    },
    {
      "cell_type": "code",
      "execution_count": 2,
      "metadata": {
        "id": "f8TW2qhKI7Qj"
      },
      "outputs": [],
      "source": [
        "class SkipConnection(nn.Module):\n",
        "    def __init__(self, in_channels, out_channels):\n",
        "        super(SkipConnection, self).__init__()\n",
        "        self.conv = nn.Conv1d(in_channels, out_channels, kernel_size=1)\n",
        "\n",
        "    def forward(self, x):\n",
        "        return self.conv(x)\n",
        "\n",
        "\n",
        "class SpectralConv1d(nn.Module):\n",
        "  def __init__(self, in_channels, out_channels,modes):\n",
        "    \"\"\"\n",
        "    modes : number of fourier modes kept\n",
        "    \"\"\"\n",
        "    super(SpectralConv1d, self).__init__()\n",
        "    self.in_channels = in_channels\n",
        "    self.out_channels = out_channels\n",
        "    self.modes = modes\n",
        "    self.scale = (1 / (in_channels*out_channels))\n",
        "\n",
        "    self.weights = nn.Parameter(self.scale * torch.rand(self.in_channels, self.out_channels, self.modes, dtype=torch.cfloat))\n",
        "\n",
        "  def complex_mult1d(self, input, w):\n",
        "    return torch.einsum('bix,iox->box',input,w)\n",
        "\n",
        "  def forward(self, x):\n",
        "    #compute the fourier coefficients\n",
        "    x_ft = torch.fft.rfft(x)\n",
        "    # Use only relevant fourier modes\n",
        "    # need to perform some slicing to select only the relevant parts\n",
        "    #The real-to-complex FFT reduces the last dimension (Nx) to Nx//2 + 1\n",
        "    #due to the symmetry in the Fourier transform of real-valued signals.\n",
        "\n",
        "    out = torch.zeros(x.shape[0],self.out_channels,x.size(-1)//2+1,dtype=torch.cfloat).to(x.device)\n",
        "\n",
        "    out[:,:,:self.modes] = self.complex_mult1d(x_ft[:,:,:self.modes],self.weights)\n",
        "    out = torch.fft.irfft(out,n=x.size(-1))\n",
        "    return out\n",
        "\n"
      ]
    },
    {
      "cell_type": "code",
      "execution_count": 3,
      "metadata": {
        "id": "JxdGjWMurTph"
      },
      "outputs": [],
      "source": [
        "class MLP(nn.Module):\n",
        "    def __init__(self, in_channels, out_channels, mid_channels):\n",
        "        super(MLP, self).__init__()\n",
        "        self.mlp1 = nn.Conv1d(in_channels, mid_channels, 1)\n",
        "        self.mlp2 = nn.Conv1d(mid_channels, out_channels, 1)\n",
        "\n",
        "    def forward(self, x):\n",
        "        x = self.mlp1(x)\n",
        "        x = F.gelu(x)\n",
        "        x = self.mlp2(x)\n",
        "        return x\n",
        "\n",
        "\n",
        "class FNO1d(nn.Module):\n",
        "  def __init__(self,modes,width,input_channels,output_channels):\n",
        "\n",
        "    \"\"\"\n",
        "    The newtork consists of 4 Fourier Layers\n",
        "    ->First we need to lift the input to the desired channel dim\n",
        "    ->Then we apply the Fourier Layers\n",
        "    ->Finally we need to project  the output back to the desired output space\n",
        "    \"\"\"\n",
        "    super(FNO1d,self).__init__()\n",
        "\n",
        "    self.modes = modes\n",
        "    self.width = width\n",
        "    self.input_channels = input_channels\n",
        "    self.output_channels = output_channels\n",
        "    #the output tensor from this layer will have a size of self.width\n",
        "    #For now we will use a linear transformation\n",
        "    self.lifting1 = nn.Conv1d(input_channels,self.width//2,1)\n",
        "    self.lifting2 = nn.Conv1d(self.width//2,self.width,1)\n",
        "\n",
        "\n",
        "    #define the Fourier Layers\n",
        "    self.conv0 = SpectralConv1d(self.width,self.width,self.modes)\n",
        "    self.conv1 = SpectralConv1d(self.width,self.width,self.modes)\n",
        "    self.conv2 = SpectralConv1d(self.width,self.width,self.modes)\n",
        "    self.conv3 = SpectralConv1d(self.width,self.width,self.modes)\n",
        "    self.conv4 = SpectralConv1d(self.width,self.width,self.modes)\n",
        "    #self.conv5 = SpectralConv1d(self.width,self.width,self.modes)\n",
        "\n",
        "    #We still need to add the second half of the fourier layer which consists of\n",
        "\n",
        "    #Mutliplying the input by a weight matrix and optionally adding a bias\n",
        "    #We can either use conv1D or an MLP\n",
        "\n",
        "    #Conv1d capture local features well but could miss out on capturing long-range\n",
        "    #dependencies and complex nonlinear interactions that span the entire input space.\n",
        "\n",
        "    ##MLP capture global interactions and complex relationships but might be less\n",
        "    ## efficient and miss out on local detail refinements.\n",
        "\n",
        "    ###In practice combining them both gives the best results\n",
        "    self.w0 = nn.Conv1d(self.width, self.width, 1)\n",
        "    self.w1 = nn.Conv1d(self.width, self.width,1)\n",
        "    self.w2 = nn.Conv1d(self.width, self.width, 1)\n",
        "    self.w3 = nn.Conv1d(self.width, self.width, 1)\n",
        "    self.w4 = nn.Conv1d(self.width,self.width,1)\n",
        "    #self.w5 = nn.Conv1d(self.width,self.width,1)\n",
        "\n",
        "   \n",
        "\n",
        "    #two layers to introduce non linearity\n",
        "    self.projection1 = nn.Conv1d(self.width,self.width*2,1)\n",
        "    self.projection2 = nn.Conv1d(self.width*2,output_channels,1)\n",
        "    \n",
        "\n",
        "  def forward(self,x):\n",
        "      #First step : lift\n",
        "      x = x.permute(0,2,1)\n",
        "      x = self.lifting1(x)\n",
        "      x = F.gelu(x)\n",
        "\n",
        "\n",
        "      x = self.lifting2(x)\n",
        "      x = F.gelu(x)\n",
        "      # we need to permute because the next layer  expect the input to have the channels dimension second\n",
        "      #x = x.permute(0,2,1)\n",
        "      \n",
        "      #2nd step : Fourier Layers\n",
        "      x_skip = x\n",
        "      x_0 = self.conv0(x)\n",
        "      x_1 = self.w0(x)\n",
        "\n",
        "      x = x_0 + x_1 \n",
        "      x = F.elu(x) + x_skip\n",
        "\n",
        "      #x_skip = x\n",
        "      x_0 = self.conv1(x)\n",
        "      x_1 = self.w1(x)\n",
        "      x = x_0 + x_1 \n",
        "      x = F.elu(x) + x_skip\n",
        "\n",
        "      #x_skip = x\n",
        "      x_0 = self.conv2(x)\n",
        "      x_1 = self.w2(x)\n",
        "      x = x_0 + x_1 \n",
        "      x = F.elu(x) + x_skip\n",
        "\n",
        "      x_skip = x\n",
        "      x_0 = self.conv3(x)\n",
        "      x_1 = self.w3(x)\n",
        "      x = x_0 + x_1 \n",
        "      x = F.elu(x) + x_skip\n",
        "      \n",
        "      x_skip = x\n",
        "      x_0 = self.conv3(x)\n",
        "      x_1 = self.w3(x)\n",
        "      x = x_0 + x_1 + x_skip\n",
        "      \n",
        "\n",
        "      #3rd step : projection\n",
        "      #x = x.permute(0,2,1)\n",
        "      x = self.projection1(x)\n",
        "      x = F.gelu(x)\n",
        "      x = self.projection2(x)\n",
        "      if self.output_channels == 1:\n",
        "        x = x.permute(0,2,1)\n",
        "\n",
        "      return x\n",
        "\n",
        "\n",
        "\n"
      ]
    },
    {
      "cell_type": "code",
      "execution_count": 5,
      "metadata": {},
      "outputs": [
        {
          "name": "stdout",
          "output_type": "stream",
          "text": [
            "Loading datasets...\n",
            "Converting numpy arrays to PyTorch tensors...\n",
            "Train inputs shape: (300000, 256, 2)\n",
            "Train outputs shape: (300000, 256)\n",
            "Validation inputs shape: (40000, 256, 2)\n",
            "Validation outputs shape: (40000, 256)\n",
            "Created 299981 1-to-20 pairs for training set.\n",
            "Created 39981 1-to-20 pairs for validation set.\n",
            "New train inputs shape: (299981, 256, 2)\n",
            "New train outputs shape: (299981, 20, 256)\n",
            "New val inputs shape: (39981, 256, 2)\n",
            "New val outputs shape: (39981, 20, 256)\n"
          ]
        }
      ],
      "source": [
        "\n",
        "def sample_uniformly(inputs: np.ndarray, outputs: np.ndarray, num_samples: int) -> Tuple[np.ndarray, np.ndarray]:\n",
        "    total_samples = inputs.shape[0]\n",
        "    sampled_indices = random.sample(range(total_samples), num_samples)\n",
        "    sampled_inputs = inputs[sampled_indices]\n",
        "    sampled_outputs = outputs[sampled_indices]\n",
        "    return sampled_inputs, sampled_outputs\n",
        "\n",
        "def load_dataset(output_dir, dataset_type):\n",
        "    inputs = np.load(os.path.join(output_dir, f'{dataset_type}_inputs.npy'))\n",
        "    outputs = np.load(os.path.join(output_dir, f'{dataset_type}_outputs.npy'))\n",
        "    return inputs, outputs\n",
        "\n",
        "def create_1_to_n_pairs(inputs, outputs, n):\n",
        "    new_inputs = []\n",
        "    new_outputs = []\n",
        "    \n",
        "    num_samples = inputs.shape[0]\n",
        "    \n",
        "    for i in range(num_samples - n + 1):\n",
        "        new_inputs.append(inputs[i])\n",
        "        new_outputs.append(outputs[i:i+n])\n",
        "    \n",
        "    new_inputs = np.array(new_inputs)\n",
        "    new_outputs = np.array(new_outputs)\n",
        "    \n",
        "    return new_inputs, new_outputs\n",
        "\n",
        "\n",
        "output_dir = './ks_data'\n",
        "\n",
        "# Load the datasets\n",
        "print(\"Loading datasets...\")\n",
        "train_inputs = np.load(os.path.join(output_dir, 'train_inputs_ex15.npy'))\n",
        "train_outputs = np.load(os.path.join(output_dir, 'train_outputs_ex15.npy'))\n",
        "val_inputs = np.load(os.path.join(output_dir, 'val_inputs_ex15.npy'))\n",
        "val_outputs = np.load(os.path.join(output_dir, 'val_outputs_ex15.npy'))\n",
        "\n",
        "# Convert numpy arrays to PyTorch tensors\n",
        "print(\"Converting numpy arrays to PyTorch tensors...\")\n",
        "train_inputs_tensor = torch.tensor(train_inputs, dtype=torch.float32)\n",
        "train_outputs_tensor = torch.tensor(train_outputs, dtype=torch.float32)\n",
        "val_inputs_tensor = torch.tensor(val_inputs, dtype=torch.float32)\n",
        "val_outputs_tensor = torch.tensor(val_outputs, dtype=torch.float32)\n",
        "\n",
        "# Parameters\n",
        "n = 20  # Number of successive steps\n",
        "\n",
        "\n",
        "# Ensure correct dimensions and types\n",
        "print(f\"Train inputs shape: {train_inputs.shape}\")\n",
        "print(f\"Train outputs shape: {train_outputs.shape}\")\n",
        "print(f\"Validation inputs shape: {val_inputs.shape}\")\n",
        "print(f\"Validation outputs shape: {val_outputs.shape}\")\n",
        "\n",
        "\n",
        "# Create 1-to-n pairs for the training set\n",
        "train_inputs, train_outputs = create_1_to_n_pairs(train_inputs, train_outputs, n)\n",
        "print(f\"Created {train_inputs.shape[0]} 1-to-{n} pairs for training set.\")\n",
        "\n",
        "# Create 1-to-n pairs for the validation set\n",
        "val_inputs, val_outputs = create_1_to_n_pairs(val_inputs, val_outputs, n)\n",
        "print(f\"Created {val_inputs.shape[0]} 1-to-{n} pairs for validation set.\")\n",
        "\n",
        "\n",
        "# Verify the new shapes\n",
        "print(f\"New train inputs shape: {train_inputs.shape}\")\n",
        "print(f\"New train outputs shape: {train_outputs.shape}\")\n",
        "print(f\"New val inputs shape: {val_inputs.shape}\")\n",
        "print(f\"New val outputs shape: {val_outputs.shape}\")\n",
        "\n",
        "\n",
        "\n",
        "\n",
        "\n",
        "\n",
        "\n"
      ]
    },
    {
      "cell_type": "code",
      "execution_count": 6,
      "metadata": {},
      "outputs": [
        {
          "name": "stdout",
          "output_type": "stream",
          "text": [
            "Converting numpy arrays to PyTorch tensors...\n",
            "Creating TensorDatasets...\n",
            "Creating DataLoaders...\n",
            "torch.Size([50000, 256, 2])\n",
            "torch.Size([50000, 20, 256])\n"
          ]
        }
      ],
      "source": [
        "\n",
        "num_samples_train = 50000\n",
        "num_samples_val = 3000\n",
        "\n",
        "# Uniformly sample 10,000 pairs from the training set\n",
        "sampled_train_inputs, sampled_train_outputs = sample_uniformly(train_inputs, train_outputs, num_samples_train)\n",
        "\n",
        "\n",
        "sampled_inputs_val, sampled_outputs_val = sample_uniformly(val_inputs, val_outputs, num_samples_val)\n",
        "\n",
        "\n",
        "# Convert numpy arrays to PyTorch tensors\n",
        "print(\"Converting numpy arrays to PyTorch tensors...\")\n",
        "sampled_train_inputs_tensor = torch.tensor(sampled_train_inputs, dtype=torch.float32)\n",
        "sampled_train_outputs_tensor = torch.tensor(sampled_train_outputs, dtype=torch.float32)\n",
        "sampled_val_inputs_tensor = torch.tensor(sampled_inputs_val, dtype=torch.float32)\n",
        "sampled_val_outputs_tensor = torch.tensor(sampled_outputs_val, dtype=torch.float32)\n",
        "\n",
        "# Create TensorDatasets\n",
        "print(\"Creating TensorDatasets...\")\n",
        "train_dataset = TensorDataset(sampled_train_inputs_tensor, sampled_train_outputs_tensor)\n",
        "val_dataset = TensorDataset(sampled_val_inputs_tensor, sampled_val_outputs_tensor)\n",
        "\n",
        "\n",
        "# Create DataLoaders\n",
        "batch_size = 50\n",
        "print(\"Creating DataLoaders...\")\n",
        "train_loader = DataLoader(train_dataset, batch_size=batch_size, shuffle=True)\n",
        "val_loader = DataLoader(val_dataset, batch_size=batch_size, shuffle=False)\n",
        "\n",
        "print(sampled_train_inputs_tensor.shape)\n",
        "print(sampled_train_outputs_tensor.shape)\n"
      ]
    },
    {
      "cell_type": "code",
      "execution_count": 102,
      "metadata": {},
      "outputs": [],
      "source": [
        "\n",
        "\n",
        "\n",
        "class SobolevLossFourier(nn.Module):\n",
        "    def __init__(self, k=2):\n",
        "        super(SobolevLossFourier, self).__init__()\n",
        "        self.k = k\n",
        "\n",
        "    def frequency_weights(self, nx):\n",
        "        k_x = torch.cat((torch.arange(start=0, end=nx//2, step=1),\n",
        "                         torch.arange(start=-nx//2, end=0, step=1)), 0).reshape(1, nx)\n",
        "        k_x = torch.abs(k_x)\n",
        "        \n",
        "        weights = torch.ones_like(k_x, dtype=torch.float32)\n",
        "        for i in range(1, self.k + 1):\n",
        "            weights += k_x**(2 * i)\n",
        "        return weights.unsqueeze(1)  \n",
        "\n",
        "    def compute_loss(self, x, y):\n",
        "        if x.dim() == 3:\n",
        "            batch_size, nt, nx = x.shape\n",
        "        else:\n",
        "            batch_size, nx = x.shape\n",
        "            nt = 1\n",
        "            x = x.unsqueeze(1)\n",
        "            y = y.unsqueeze(1)\n",
        "\n",
        "        x_fft = torch.fft.fftn(x, dim=-1)\n",
        "        y_fft = torch.fft.fftn(y, dim=-1)\n",
        "\n",
        "        weights = self.frequency_weights(nx).to(x.device)\n",
        "        weights = weights.repeat(1, nt, 1)  # Repeat for time dimension if necessary\n",
        "\n",
        "        diff_fft = x_fft - y_fft\n",
        "        h1_loss = torch.sum(weights * torch.abs(diff_fft)**2,)\n",
        "\n",
        "        # Normalize by the energy of the target signal\n",
        "        h1_loss = h1_loss / (torch.sum(weights * torch.abs(y_fft)**2) + 1e-8)\n",
        "\n",
        "        return h1_loss.mean()\n",
        "\n",
        "    def forward(self, pred, target):\n",
        "        return self.compute_loss(pred, target)\n",
        "\n",
        "\n",
        "class CombinedLoss(nn.Module):\n",
        "    def __init__(self, sobolev_weight=1.0, mse_weight=0.1,k=1):\n",
        "        super().__init__()\n",
        "        self.sobolev_loss = SobolevLossFourier( k)\n",
        "        self.mse_loss = nn.MSELoss()\n",
        "        self.sobolev_weight = sobolev_weight\n",
        "        self.mse_weight = mse_weight\n",
        "\n",
        "    def forward(self, pred, target):\n",
        "        sobolev = self.sobolev_loss(pred, target)\n",
        "        mse = self.mse_loss(pred, target)\n",
        "        return self.sobolev_weight * sobolev + self.mse_weight * mse\n",
        "\n"
      ]
    },
    {
      "cell_type": "code",
      "execution_count": 10,
      "metadata": {},
      "outputs": [],
      "source": [
        "import torch\n",
        "import torch.nn as nn\n",
        "import torch.optim as optim\n",
        "from torch.optim.lr_scheduler import OneCycleLR\n",
        "from tqdm import tqdm\n",
        "\n",
        "def train_fno(model, train_loader, val_loader, num_epochs, device ):\n",
        "    optimizer = optim.Adam(model.parameters(), lr=0.0001, weight_decay=1e-5)\n",
        "    scheduler = OneCycleLR(optimizer, max_lr=0.0001, epochs=num_epochs, steps_per_epoch=len(train_loader))\n",
        "    criterion = nn.MSELoss()\n",
        "\n",
        "    for epoch in range(num_epochs):\n",
        "        model.train()\n",
        "        train_loss = 0.0\n",
        "        \n",
        "        progress_bar = tqdm(train_loader, desc=f\"Epoch {epoch + 1}/{num_epochs}\")\n",
        "        for inputs, targets in progress_bar:\n",
        "            inputs, targets = inputs.to(device), targets.to(device)\n",
        "            \n",
        "            optimizer.zero_grad()\n",
        "            outputs = model(inputs).squeeze(-1)\n",
        "            \n",
        "            loss = criterion(outputs, targets)\n",
        "            \n",
        "            loss.backward()\n",
        "            optimizer.step()\n",
        "            scheduler.step()\n",
        "            \n",
        "            train_loss += loss.item()\n",
        "            progress_bar.set_postfix({'train_loss': f'{loss.item():.6f}'})\n",
        "        \n",
        "        train_loss /= len(train_loader)\n",
        "        \n",
        "        model.eval()\n",
        "        val_loss = 0.0\n",
        "        with torch.no_grad():\n",
        "            for inputs, targets in val_loader:\n",
        "                inputs, targets = inputs.to(device), targets.to(device)\n",
        "                outputs = model(inputs).squeeze(-1)\n",
        "                \n",
        "              \n",
        "                loss = criterion(outputs, targets)\n",
        "                \n",
        "                val_loss += loss.item()\n",
        "        \n",
        "        val_loss /= len(val_loader)\n",
        "        \n",
        "        print(f\"\\n{'=' * 50}\")\n",
        "        print(f\"Epoch {epoch + 1}/{num_epochs}\")\n",
        "        print(f\"Train Loss: {train_loss:.6f}\")\n",
        "        print(f\"Validation Loss: {val_loss:.6f}\")\n",
        "        print(f\"{'=' * 50}\\n\")\n",
        "\n",
        "    return model\n",
        "\n",
        "# Configuration\n",
        "num_epochs = 30\n",
        "\n"
      ]
    },
    {
      "cell_type": "markdown",
      "metadata": {},
      "source": [
        "Case 2: Sequence prediction (t+1 to t+20)\n"
      ]
    },
    {
      "cell_type": "code",
      "execution_count": 11,
      "metadata": {},
      "outputs": [
        {
          "name": "stdout",
          "output_type": "stream",
          "text": [
            "\n",
            "Training model for sequence prediction (t+1 to t+20)...\n"
          ]
        },
        {
          "name": "stderr",
          "output_type": "stream",
          "text": [
            "Epoch 1/30: 100%|██████████| 1000/1000 [00:31<00:00, 32.25it/s, train_loss=1.026026]\n"
          ]
        },
        {
          "name": "stdout",
          "output_type": "stream",
          "text": [
            "\n",
            "==================================================\n",
            "Epoch 1/30\n",
            "Train Loss: 2.647582\n",
            "Validation Loss: 1.018086\n",
            "==================================================\n",
            "\n"
          ]
        },
        {
          "name": "stderr",
          "output_type": "stream",
          "text": [
            "Epoch 2/30: 100%|██████████| 1000/1000 [00:30<00:00, 32.56it/s, train_loss=0.046794]\n"
          ]
        },
        {
          "name": "stdout",
          "output_type": "stream",
          "text": [
            "\n",
            "==================================================\n",
            "Epoch 2/30\n",
            "Train Loss: 0.389036\n",
            "Validation Loss: 0.042788\n",
            "==================================================\n",
            "\n"
          ]
        },
        {
          "name": "stderr",
          "output_type": "stream",
          "text": [
            "Epoch 3/30: 100%|██████████| 1000/1000 [00:31<00:00, 31.44it/s, train_loss=0.020138]\n"
          ]
        },
        {
          "name": "stdout",
          "output_type": "stream",
          "text": [
            "\n",
            "==================================================\n",
            "Epoch 3/30\n",
            "Train Loss: 0.028158\n",
            "Validation Loss: 0.018360\n",
            "==================================================\n",
            "\n"
          ]
        },
        {
          "name": "stderr",
          "output_type": "stream",
          "text": [
            "Epoch 4/30: 100%|██████████| 1000/1000 [00:32<00:00, 31.14it/s, train_loss=0.009157]\n"
          ]
        },
        {
          "name": "stdout",
          "output_type": "stream",
          "text": [
            "\n",
            "==================================================\n",
            "Epoch 4/30\n",
            "Train Loss: 0.014477\n",
            "Validation Loss: 0.007616\n",
            "==================================================\n",
            "\n"
          ]
        },
        {
          "name": "stderr",
          "output_type": "stream",
          "text": [
            "Epoch 5/30: 100%|██████████| 1000/1000 [00:29<00:00, 33.75it/s, train_loss=0.002995]\n"
          ]
        },
        {
          "name": "stdout",
          "output_type": "stream",
          "text": [
            "\n",
            "==================================================\n",
            "Epoch 5/30\n",
            "Train Loss: 0.004851\n",
            "Validation Loss: 0.001967\n",
            "==================================================\n",
            "\n"
          ]
        },
        {
          "name": "stderr",
          "output_type": "stream",
          "text": [
            "Epoch 6/30: 100%|██████████| 1000/1000 [00:28<00:00, 35.25it/s, train_loss=0.000863]\n"
          ]
        },
        {
          "name": "stdout",
          "output_type": "stream",
          "text": [
            "\n",
            "==================================================\n",
            "Epoch 6/30\n",
            "Train Loss: 0.002116\n",
            "Validation Loss: 0.000748\n",
            "==================================================\n",
            "\n"
          ]
        },
        {
          "name": "stderr",
          "output_type": "stream",
          "text": [
            "Epoch 7/30: 100%|██████████| 1000/1000 [00:28<00:00, 35.57it/s, train_loss=0.000838]\n"
          ]
        },
        {
          "name": "stdout",
          "output_type": "stream",
          "text": [
            "\n",
            "==================================================\n",
            "Epoch 7/30\n",
            "Train Loss: 0.001527\n",
            "Validation Loss: 0.000488\n",
            "==================================================\n",
            "\n"
          ]
        },
        {
          "name": "stderr",
          "output_type": "stream",
          "text": [
            "Epoch 8/30: 100%|██████████| 1000/1000 [00:28<00:00, 34.49it/s, train_loss=0.000916]\n"
          ]
        },
        {
          "name": "stdout",
          "output_type": "stream",
          "text": [
            "\n",
            "==================================================\n",
            "Epoch 8/30\n",
            "Train Loss: 0.001372\n",
            "Validation Loss: 0.000412\n",
            "==================================================\n",
            "\n"
          ]
        },
        {
          "name": "stderr",
          "output_type": "stream",
          "text": [
            "Epoch 9/30: 100%|██████████| 1000/1000 [00:28<00:00, 35.43it/s, train_loss=0.000801]\n"
          ]
        },
        {
          "name": "stdout",
          "output_type": "stream",
          "text": [
            "\n",
            "==================================================\n",
            "Epoch 9/30\n",
            "Train Loss: 0.001229\n",
            "Validation Loss: 0.000281\n",
            "==================================================\n",
            "\n"
          ]
        },
        {
          "name": "stderr",
          "output_type": "stream",
          "text": [
            "Epoch 10/30: 100%|██████████| 1000/1000 [00:29<00:00, 34.24it/s, train_loss=0.000323]\n"
          ]
        },
        {
          "name": "stdout",
          "output_type": "stream",
          "text": [
            "\n",
            "==================================================\n",
            "Epoch 10/30\n",
            "Train Loss: 0.001025\n",
            "Validation Loss: 0.000207\n",
            "==================================================\n",
            "\n"
          ]
        },
        {
          "name": "stderr",
          "output_type": "stream",
          "text": [
            "Epoch 11/30: 100%|██████████| 1000/1000 [00:28<00:00, 35.52it/s, train_loss=0.000220]\n"
          ]
        },
        {
          "name": "stdout",
          "output_type": "stream",
          "text": [
            "\n",
            "==================================================\n",
            "Epoch 11/30\n",
            "Train Loss: 0.000891\n",
            "Validation Loss: 0.000146\n",
            "==================================================\n",
            "\n"
          ]
        },
        {
          "name": "stderr",
          "output_type": "stream",
          "text": [
            "Epoch 12/30: 100%|██████████| 1000/1000 [00:29<00:00, 33.62it/s, train_loss=0.000972]\n"
          ]
        },
        {
          "name": "stdout",
          "output_type": "stream",
          "text": [
            "\n",
            "==================================================\n",
            "Epoch 12/30\n",
            "Train Loss: 0.000738\n",
            "Validation Loss: 0.000840\n",
            "==================================================\n",
            "\n"
          ]
        },
        {
          "name": "stderr",
          "output_type": "stream",
          "text": [
            "Epoch 13/30: 100%|██████████| 1000/1000 [00:29<00:00, 33.89it/s, train_loss=0.000151]\n"
          ]
        },
        {
          "name": "stdout",
          "output_type": "stream",
          "text": [
            "\n",
            "==================================================\n",
            "Epoch 13/30\n",
            "Train Loss: 0.000638\n",
            "Validation Loss: 0.000114\n",
            "==================================================\n",
            "\n"
          ]
        },
        {
          "name": "stderr",
          "output_type": "stream",
          "text": [
            "Epoch 14/30: 100%|██████████| 1000/1000 [00:29<00:00, 33.89it/s, train_loss=0.000139]\n"
          ]
        },
        {
          "name": "stdout",
          "output_type": "stream",
          "text": [
            "\n",
            "==================================================\n",
            "Epoch 14/30\n",
            "Train Loss: 0.000549\n",
            "Validation Loss: 0.000099\n",
            "==================================================\n",
            "\n"
          ]
        },
        {
          "name": "stderr",
          "output_type": "stream",
          "text": [
            "Epoch 15/30: 100%|██████████| 1000/1000 [00:29<00:00, 33.46it/s, train_loss=0.000125]\n"
          ]
        },
        {
          "name": "stdout",
          "output_type": "stream",
          "text": [
            "\n",
            "==================================================\n",
            "Epoch 15/30\n",
            "Train Loss: 0.000473\n",
            "Validation Loss: 0.000093\n",
            "==================================================\n",
            "\n"
          ]
        },
        {
          "name": "stderr",
          "output_type": "stream",
          "text": [
            "Epoch 16/30: 100%|██████████| 1000/1000 [00:28<00:00, 34.86it/s, train_loss=0.001007]\n"
          ]
        },
        {
          "name": "stdout",
          "output_type": "stream",
          "text": [
            "\n",
            "==================================================\n",
            "Epoch 16/30\n",
            "Train Loss: 0.000397\n",
            "Validation Loss: 0.001742\n",
            "==================================================\n",
            "\n"
          ]
        },
        {
          "name": "stderr",
          "output_type": "stream",
          "text": [
            "Epoch 17/30: 100%|██████████| 1000/1000 [00:28<00:00, 34.73it/s, train_loss=0.000097]\n"
          ]
        },
        {
          "name": "stdout",
          "output_type": "stream",
          "text": [
            "\n",
            "==================================================\n",
            "Epoch 17/30\n",
            "Train Loss: 0.000383\n",
            "Validation Loss: 0.000083\n",
            "==================================================\n",
            "\n"
          ]
        },
        {
          "name": "stderr",
          "output_type": "stream",
          "text": [
            "Epoch 18/30: 100%|██████████| 1000/1000 [00:28<00:00, 34.49it/s, train_loss=0.000222]\n"
          ]
        },
        {
          "name": "stdout",
          "output_type": "stream",
          "text": [
            "\n",
            "==================================================\n",
            "Epoch 18/30\n",
            "Train Loss: 0.000314\n",
            "Validation Loss: 0.000129\n",
            "==================================================\n",
            "\n"
          ]
        },
        {
          "name": "stderr",
          "output_type": "stream",
          "text": [
            "Epoch 19/30: 100%|██████████| 1000/1000 [00:28<00:00, 35.09it/s, train_loss=0.000136]\n"
          ]
        },
        {
          "name": "stdout",
          "output_type": "stream",
          "text": [
            "\n",
            "==================================================\n",
            "Epoch 19/30\n",
            "Train Loss: 0.000278\n",
            "Validation Loss: 0.000105\n",
            "==================================================\n",
            "\n"
          ]
        },
        {
          "name": "stderr",
          "output_type": "stream",
          "text": [
            "Epoch 20/30: 100%|██████████| 1000/1000 [00:33<00:00, 30.30it/s, train_loss=0.000077]\n"
          ]
        },
        {
          "name": "stdout",
          "output_type": "stream",
          "text": [
            "\n",
            "==================================================\n",
            "Epoch 20/30\n",
            "Train Loss: 0.000261\n",
            "Validation Loss: 0.000066\n",
            "==================================================\n",
            "\n"
          ]
        },
        {
          "name": "stderr",
          "output_type": "stream",
          "text": [
            "Epoch 21/30: 100%|██████████| 1000/1000 [00:35<00:00, 28.48it/s, train_loss=0.000066]\n"
          ]
        },
        {
          "name": "stdout",
          "output_type": "stream",
          "text": [
            "\n",
            "==================================================\n",
            "Epoch 21/30\n",
            "Train Loss: 0.000249\n",
            "Validation Loss: 0.000069\n",
            "==================================================\n",
            "\n"
          ]
        },
        {
          "name": "stderr",
          "output_type": "stream",
          "text": [
            "Epoch 22/30: 100%|██████████| 1000/1000 [00:28<00:00, 35.37it/s, train_loss=0.000064]\n"
          ]
        },
        {
          "name": "stdout",
          "output_type": "stream",
          "text": [
            "\n",
            "==================================================\n",
            "Epoch 22/30\n",
            "Train Loss: 0.000239\n",
            "Validation Loss: 0.000056\n",
            "==================================================\n",
            "\n"
          ]
        },
        {
          "name": "stderr",
          "output_type": "stream",
          "text": [
            "Epoch 23/30: 100%|██████████| 1000/1000 [00:27<00:00, 36.89it/s, train_loss=0.000052]\n"
          ]
        },
        {
          "name": "stdout",
          "output_type": "stream",
          "text": [
            "\n",
            "==================================================\n",
            "Epoch 23/30\n",
            "Train Loss: 0.000228\n",
            "Validation Loss: 0.000052\n",
            "==================================================\n",
            "\n"
          ]
        },
        {
          "name": "stderr",
          "output_type": "stream",
          "text": [
            "Epoch 24/30: 100%|██████████| 1000/1000 [00:26<00:00, 37.69it/s, train_loss=0.000061]\n"
          ]
        },
        {
          "name": "stdout",
          "output_type": "stream",
          "text": [
            "\n",
            "==================================================\n",
            "Epoch 24/30\n",
            "Train Loss: 0.000218\n",
            "Validation Loss: 0.000050\n",
            "==================================================\n",
            "\n"
          ]
        },
        {
          "name": "stderr",
          "output_type": "stream",
          "text": [
            "Epoch 25/30: 100%|██████████| 1000/1000 [00:26<00:00, 37.62it/s, train_loss=0.000050]\n"
          ]
        },
        {
          "name": "stdout",
          "output_type": "stream",
          "text": [
            "\n",
            "==================================================\n",
            "Epoch 25/30\n",
            "Train Loss: 0.000213\n",
            "Validation Loss: 0.000049\n",
            "==================================================\n",
            "\n"
          ]
        },
        {
          "name": "stderr",
          "output_type": "stream",
          "text": [
            "Epoch 26/30: 100%|██████████| 1000/1000 [00:26<00:00, 38.07it/s, train_loss=0.000051]\n"
          ]
        },
        {
          "name": "stdout",
          "output_type": "stream",
          "text": [
            "\n",
            "==================================================\n",
            "Epoch 26/30\n",
            "Train Loss: 0.000209\n",
            "Validation Loss: 0.000048\n",
            "==================================================\n",
            "\n"
          ]
        },
        {
          "name": "stderr",
          "output_type": "stream",
          "text": [
            "Epoch 27/30: 100%|██████████| 1000/1000 [00:26<00:00, 37.76it/s, train_loss=0.000056]\n"
          ]
        },
        {
          "name": "stdout",
          "output_type": "stream",
          "text": [
            "\n",
            "==================================================\n",
            "Epoch 27/30\n",
            "Train Loss: 0.000204\n",
            "Validation Loss: 0.000047\n",
            "==================================================\n",
            "\n"
          ]
        },
        {
          "name": "stderr",
          "output_type": "stream",
          "text": [
            "Epoch 28/30: 100%|██████████| 1000/1000 [00:26<00:00, 37.81it/s, train_loss=0.000060]\n"
          ]
        },
        {
          "name": "stdout",
          "output_type": "stream",
          "text": [
            "\n",
            "==================================================\n",
            "Epoch 28/30\n",
            "Train Loss: 0.000201\n",
            "Validation Loss: 0.000049\n",
            "==================================================\n",
            "\n"
          ]
        },
        {
          "name": "stderr",
          "output_type": "stream",
          "text": [
            "Epoch 29/30: 100%|██████████| 1000/1000 [00:26<00:00, 38.32it/s, train_loss=0.000054]\n"
          ]
        },
        {
          "name": "stdout",
          "output_type": "stream",
          "text": [
            "\n",
            "==================================================\n",
            "Epoch 29/30\n",
            "Train Loss: 0.000199\n",
            "Validation Loss: 0.000047\n",
            "==================================================\n",
            "\n"
          ]
        },
        {
          "name": "stderr",
          "output_type": "stream",
          "text": [
            "Epoch 30/30: 100%|██████████| 1000/1000 [00:25<00:00, 38.47it/s, train_loss=0.000051]\n"
          ]
        },
        {
          "name": "stdout",
          "output_type": "stream",
          "text": [
            "\n",
            "==================================================\n",
            "Epoch 30/30\n",
            "Train Loss: 0.000198\n",
            "Validation Loss: 0.000046\n",
            "==================================================\n",
            "\n"
          ]
        }
      ],
      "source": [
        "model_sequence = FNO1d(modes=32, width=64,input_channels=2,output_channels=20).to(device)\n",
        "print(\"\\nTraining model for sequence prediction (t+1 to t+20)...\")\n",
        "model_sequence = train_fno(model_sequence, train_loader, val_loader, num_epochs, device)\n",
        "torch.save(model_sequence.state_dict(), 'fno_model_sequence_ex15.pth')"
      ]
    },
    {
      "cell_type": "markdown",
      "metadata": {},
      "source": [
        "Test"
      ]
    },
    {
      "cell_type": "code",
      "execution_count": 33,
      "metadata": {},
      "outputs": [],
      "source": [
        "# Parameters\n",
        "L = 100\n",
        "N = 256\n",
        "T = 100\n",
        "\n",
        "test_initial_conditions = np.load(os.path.join(output_dir, 'test_inputs_ex15.npy'))\n",
        "test_solutions = np.load(os.path.join(output_dir, 'test_outputs_ex15.npy'))\n"
      ]
    },
    {
      "cell_type": "code",
      "execution_count": 36,
      "metadata": {},
      "outputs": [
        {
          "name": "stdout",
          "output_type": "stream",
          "text": [
            "Evaluating long sequence prediction...\n"
          ]
        },
        {
          "name": "stderr",
          "output_type": "stream",
          "text": [
            "C:\\Users\\FisherMoon25\\AppData\\Local\\Temp\\ipykernel_3888\\3030996324.py:73: FutureWarning: You are using `torch.load` with `weights_only=False` (the current default value), which uses the default pickle module implicitly. It is possible to construct malicious pickle data which will execute arbitrary code during unpickling (See https://github.com/pytorch/pytorch/blob/main/SECURITY.md#untrusted-models for more details). In a future release, the default value for `weights_only` will be flipped to `True`. This limits the functions that could be executed during unpickling. Arbitrary objects will no longer be allowed to be loaded via this mode unless they are explicitly allowlisted by the user via `torch.serialization.add_safe_globals`. We recommend you start setting `weights_only=True` for any use case where you don't have full control of the loaded file. Please open an issue on GitHub for any issues related to this experimental feature.\n",
            "  model_sequence.load_state_dict(torch.load('fno_model_sequence_ex15.pth'))\n"
          ]
        },
        {
          "data": {
            "image/png": "[encoded data removed]",
            "text/plain": [
              "<Figure size 1200x600 with 1 Axes>"
            ]
          },
          "metadata": {},
          "output_type": "display_data"
        }
      ],
      "source": [
        "import numpy as np\n",
        "import torch\n",
        "from torch.utils.data import DataLoader, TensorDataset\n",
        "import matplotlib.pyplot as plt\n",
        "import seaborn as sns\n",
        "\n",
        "def load_and_prepare_data(test_initial_conditions, test_solutions, time_steps_to_predict, device):\n",
        "    test_initial_conditions_tensor = torch.tensor(test_initial_conditions, dtype=torch.float32)\n",
        "    test_solutions_tensor = torch.tensor(test_solutions[:, time_steps_to_predict-1, :], dtype=torch.float32)\n",
        "    test_dataset = TensorDataset(test_initial_conditions_tensor, test_solutions_tensor)\n",
        "    return DataLoader(test_dataset, batch_size=1, shuffle=False)\n",
        "\n",
        "def load_model(model_path, device):\n",
        "    model = FNO1d(modes=32, width=64, input_channels=2, output_channels=1).to(device)\n",
        "    model.load_state_dict(torch.load(model_path))\n",
        "    model.eval()\n",
        "    return model\n",
        "\n",
        "def predict_long_sequence(model, inputs, time_steps_to_predict, device):\n",
        "    predictions = []\n",
        "    grid = torch.linspace(0, L, inputs.shape[1]).unsqueeze(0).unsqueeze(-1).to(device)\n",
        "    current_input = torch.cat((inputs.unsqueeze(-1), grid.expand_as(inputs.unsqueeze(-1))), dim=-1)\n",
        "    \n",
        "    with torch.no_grad():\n",
        "        while len(predictions) * 20 < time_steps_to_predict:\n",
        "            outputs = model(current_input).squeeze().cpu().numpy()\n",
        "            predictions.append(outputs)\n",
        "            last_output = outputs[-1]\n",
        "            last_output_tensor = torch.tensor(last_output, dtype=torch.float32).to(device).unsqueeze(0).unsqueeze(-1)\n",
        "            current_input = torch.cat((last_output_tensor, grid.expand_as(last_output_tensor)), dim=-1)\n",
        "    \n",
        "    return np.concatenate(predictions, axis=0)[:time_steps_to_predict]\n",
        "\n",
        "def predict_single_step(model, inputs, device):\n",
        "    with torch.no_grad():\n",
        "        grid = torch.linspace(0, L, inputs.shape[1]).unsqueeze(0).unsqueeze(-1).to(device)\n",
        "        inputs = torch.cat((inputs.unsqueeze(-1), grid.expand_as(inputs.unsqueeze(-1))), dim=-1)\n",
        "        return model(inputs).squeeze().cpu().numpy()\n",
        "\n",
        "def plot_comparison(ground_truth, prediction, title, save_path=None):\n",
        "    plt.figure(figsize=(12, 6))\n",
        "    plt.plot(ground_truth, label=\"Ground Truth\", linewidth=2)\n",
        "    plt.plot(prediction, label=\"Prediction\", linewidth=2, linestyle='--')\n",
        "    plt.title(title, fontsize=16)\n",
        "    plt.xlabel(\"Spatial Coordinate\", fontsize=12)\n",
        "    plt.ylabel(\"Value\", fontsize=12)\n",
        "    plt.legend(fontsize=10)\n",
        "    plt.grid(True, linestyle=':', alpha=0.7)\n",
        "    if save_path:\n",
        "        plt.savefig(save_path, dpi=300, bbox_inches='tight')\n",
        "    plt.show()\n",
        "\n",
        "def plot_error_heatmap(ground_truth, predictions, title, save_path=None):\n",
        "    error = np.abs(ground_truth - predictions)\n",
        "    plt.figure(figsize=(12, 6))\n",
        "    sns.heatmap(error.T, cmap='viridis', cbar_kws={'label': 'Absolute Error'})\n",
        "    plt.title(title, fontsize=16)\n",
        "    plt.xlabel(\"Time Step\", fontsize=12)\n",
        "    plt.ylabel(\"Spatial Coordinate\", fontsize=12)\n",
        "    if save_path:\n",
        "        plt.savefig(save_path, dpi=300, bbox_inches='tight')\n",
        "    plt.show()\n",
        "\n",
        "\n",
        "\n",
        "\n",
        "\n",
        "time_steps_to_predict = 100\n",
        "# Long sequence prediction\n",
        "print(\"Evaluating long sequence prediction...\")\n",
        "test_loader_sequence = load_and_prepare_data(test_initial_conditions, test_solutions, time_steps_to_predict, device)\n",
        "model_sequence= FNO1d(modes=32, width=64, input_channels=2, output_channels=20).to(device)\n",
        "model_sequence.load_state_dict(torch.load('fno_model_sequence_ex15.pth'))\n",
        "model_sequence.eval()\n",
        "all_predictions_long = []\n",
        "all_targets_long = []\n",
        "\n",
        "for inputs, targets in test_loader_sequence:\n",
        "    inputs, targets = inputs.to(device), targets.to(device)\n",
        "    predictions = predict_long_sequence(model_sequence, inputs,time_steps_to_predict, device)\n",
        "    all_predictions_long.append(predictions[-1])\n",
        "    all_targets_long.append(targets.squeeze().cpu().numpy())\n",
        "\n",
        "all_predictions_long = np.array(all_predictions_long)\n",
        "all_targets_long = np.array(all_targets_long)\n",
        "\n",
        "for idx in range(1):\n",
        "    plot_comparison(all_targets_long[idx], all_predictions_long[idx], \n",
        "                    f\"Long Sequence Prediction - Sample {idx}\", \n",
        "                    f\"long_sequence_comparison_{idx}.png\")\n",
        "\n",
        "\n",
        "\n"
      ]
    },
    {
      "cell_type": "markdown",
      "metadata": {},
      "source": [
        "**FUSION**\n",
        "\n",
        "Le code suivant implémente une stratégie efficace pour fusionner plusieurs jeux de données de l'équation de Kuramoto"
      ]
    },
    {
      "cell_type": "code",
      "execution_count": 25,
      "metadata": {},
      "outputs": [
        {
          "name": "stdout",
          "output_type": "stream",
          "text": [
            "Dataset combination and processing complete.\n",
            "Number of batches: 1000\n"
          ]
        }
      ],
      "source": [
        "import numpy as np\n",
        "import torch\n",
        "from torch.utils.data import Dataset, DataLoader\n",
        "import os\n",
        "from torch.utils.data import Dataset, DataLoader, Sampler\n",
        "\n",
        "\n",
        "class KSDataset(Dataset):\n",
        "    def __init__(self, data_dir, suffixes, n):\n",
        "        self.data_dir = data_dir\n",
        "        self.suffixes = suffixes\n",
        "        self.n = n\n",
        "        self.file_sizes = []\n",
        "        self.cumulative_sizes = [0]\n",
        "\n",
        "        for suffix in suffixes:\n",
        "            inputs = np.load(os.path.join(data_dir, f'train_inputs_ex{suffix}.npy'), mmap_mode='r')\n",
        "            self.file_sizes.append(inputs.shape[0] - n + 1)\n",
        "            self.cumulative_sizes.append(self.cumulative_sizes[-1] + self.file_sizes[-1])\n",
        "\n",
        "        self.total_size = self.cumulative_sizes[-1]\n",
        "\n",
        "    def __len__(self):\n",
        "        return self.total_size\n",
        "\n",
        "    def __getitem__(self, idx):\n",
        "        file_idx = np.searchsorted(self.cumulative_sizes, idx, side='right') - 1\n",
        "        local_idx = idx - self.cumulative_sizes[file_idx]\n",
        "        \n",
        "        suffix = self.suffixes[file_idx]\n",
        "        inputs = np.load(os.path.join(self.data_dir, f'train_inputs_ex{suffix}.npy'), mmap_mode='r')\n",
        "        outputs = np.load(os.path.join(self.data_dir, f'train_outputs_ex{suffix}.npy'), mmap_mode='r')\n",
        "        \n",
        "        input_data = inputs[local_idx]\n",
        "        output_data = outputs[local_idx:local_idx+self.n]\n",
        "        \n",
        "        return torch.tensor(input_data, dtype=torch.float32), torch.tensor(output_data, dtype=torch.float32)\n",
        "\n",
        "\n",
        "class ShuffledSampler(Sampler):\n",
        "    def __init__(self, data_source, num_samples=None):\n",
        "        self.data_source = data_source\n",
        "        self.num_samples = num_samples if num_samples is not None else len(data_source)\n",
        "\n",
        "    def __iter__(self):\n",
        "        indices = np.random.permutation(len(self.data_source))\n",
        "        return iter(indices[:self.num_samples])\n",
        "\n",
        "    def __len__(self):\n",
        "        return self.num_samples\n",
        "\n",
        "def create_combined_dataloader(data_dir, suffixes, n, batch_size, num_samples):\n",
        "    dataset = KSDataset(data_dir, suffixes, n)\n",
        "    \n",
        "    if num_samples is not None and num_samples < len(dataset):\n",
        "        sampler = ShuffledSampler(dataset, num_samples)\n",
        "    else:\n",
        "        sampler = ShuffledSampler(dataset)\n",
        "    \n",
        "    dataloader = DataLoader(dataset, batch_size=batch_size, sampler=sampler)\n",
        "    \n",
        "    return dataloader\n",
        "\n",
        "\n",
        "# Usage\n",
        "output_dir = './ks_data'\n",
        "suffixes = [ '15', '16','17']\n",
        "n = 20  # Number of successive steps\n",
        "batch_size = 50\n",
        "num_samples_train = 50000  # Set to None if you  to use all available data\n",
        "\n",
        "train_loader = create_combined_dataloader(output_dir, suffixes, n, batch_size, num_samples_train)\n",
        "\n",
        "print(\"Dataset combination and processing complete.\")\n",
        "print(f\"Number of batches: {len(train_loader)}\")"
      ]
    },
    {
      "cell_type": "code",
      "execution_count": 26,
      "metadata": {},
      "outputs": [
        {
          "name": "stdout",
          "output_type": "stream",
          "text": [
            "\n",
            "Training model for sequence prediction (t+1 to t+20)...\n"
          ]
        },
        {
          "name": "stderr",
          "output_type": "stream",
          "text": [
            "Epoch 1/30:   0%|          | 0/1000 [00:00<?, ?it/s]"
          ]
        },
        {
          "name": "stderr",
          "output_type": "stream",
          "text": [
            "Epoch 1/30: 100%|██████████| 1000/1000 [01:22<00:00, 12.14it/s, train_loss=0.003338]\n"
          ]
        },
        {
          "name": "stdout",
          "output_type": "stream",
          "text": [
            "\n",
            "==================================================\n",
            "Epoch 1/30\n",
            "Train Loss: 0.004026\n",
            "Validation Loss: 0.001758\n",
            "==================================================\n",
            "\n"
          ]
        },
        {
          "name": "stderr",
          "output_type": "stream",
          "text": [
            "Epoch 2/30: 100%|██████████| 1000/1000 [01:19<00:00, 12.61it/s, train_loss=0.072746]\n"
          ]
        },
        {
          "name": "stdout",
          "output_type": "stream",
          "text": [
            "\n",
            "==================================================\n",
            "Epoch 2/30\n",
            "Train Loss: 0.003005\n",
            "Validation Loss: 0.001213\n",
            "==================================================\n",
            "\n"
          ]
        },
        {
          "name": "stderr",
          "output_type": "stream",
          "text": [
            "Epoch 3/30: 100%|██████████| 1000/1000 [01:16<00:00, 13.07it/s, train_loss=0.001493]\n"
          ]
        },
        {
          "name": "stdout",
          "output_type": "stream",
          "text": [
            "\n",
            "==================================================\n",
            "Epoch 3/30\n",
            "Train Loss: 0.002749\n",
            "Validation Loss: 0.000979\n",
            "==================================================\n",
            "\n"
          ]
        },
        {
          "name": "stderr",
          "output_type": "stream",
          "text": [
            "Epoch 4/30: 100%|██████████| 1000/1000 [01:15<00:00, 13.29it/s, train_loss=0.001420]\n"
          ]
        },
        {
          "name": "stdout",
          "output_type": "stream",
          "text": [
            "\n",
            "==================================================\n",
            "Epoch 4/30\n",
            "Train Loss: 0.002282\n",
            "Validation Loss: 0.000919\n",
            "==================================================\n",
            "\n"
          ]
        },
        {
          "name": "stderr",
          "output_type": "stream",
          "text": [
            "Epoch 5/30: 100%|██████████| 1000/1000 [01:13<00:00, 13.64it/s, train_loss=0.001534]\n"
          ]
        },
        {
          "name": "stdout",
          "output_type": "stream",
          "text": [
            "\n",
            "==================================================\n",
            "Epoch 5/30\n",
            "Train Loss: 0.002244\n",
            "Validation Loss: 0.000811\n",
            "==================================================\n",
            "\n"
          ]
        },
        {
          "name": "stderr",
          "output_type": "stream",
          "text": [
            "Epoch 6/30: 100%|██████████| 1000/1000 [01:13<00:00, 13.69it/s, train_loss=0.001025]\n"
          ]
        },
        {
          "name": "stdout",
          "output_type": "stream",
          "text": [
            "\n",
            "==================================================\n",
            "Epoch 6/30\n",
            "Train Loss: 0.001810\n",
            "Validation Loss: 0.000828\n",
            "==================================================\n",
            "\n"
          ]
        },
        {
          "name": "stderr",
          "output_type": "stream",
          "text": [
            "Epoch 7/30: 100%|██████████| 1000/1000 [01:22<00:00, 12.18it/s, train_loss=0.001154]\n"
          ]
        },
        {
          "name": "stdout",
          "output_type": "stream",
          "text": [
            "\n",
            "==================================================\n",
            "Epoch 7/30\n",
            "Train Loss: 0.001730\n",
            "Validation Loss: 0.000771\n",
            "==================================================\n",
            "\n"
          ]
        },
        {
          "name": "stderr",
          "output_type": "stream",
          "text": [
            "Epoch 8/30: 100%|██████████| 1000/1000 [01:20<00:00, 12.45it/s, train_loss=0.000828]\n"
          ]
        },
        {
          "name": "stdout",
          "output_type": "stream",
          "text": [
            "\n",
            "==================================================\n",
            "Epoch 8/30\n",
            "Train Loss: 0.002122\n",
            "Validation Loss: 0.000588\n",
            "==================================================\n",
            "\n"
          ]
        },
        {
          "name": "stderr",
          "output_type": "stream",
          "text": [
            "Epoch 9/30: 100%|██████████| 1000/1000 [01:20<00:00, 12.47it/s, train_loss=0.000758]\n"
          ]
        },
        {
          "name": "stdout",
          "output_type": "stream",
          "text": [
            "\n",
            "==================================================\n",
            "Epoch 9/30\n",
            "Train Loss: 0.001572\n",
            "Validation Loss: 0.000620\n",
            "==================================================\n",
            "\n"
          ]
        },
        {
          "name": "stderr",
          "output_type": "stream",
          "text": [
            "Epoch 10/30: 100%|██████████| 1000/1000 [01:16<00:00, 13.04it/s, train_loss=0.001238]\n"
          ]
        },
        {
          "name": "stdout",
          "output_type": "stream",
          "text": [
            "\n",
            "==================================================\n",
            "Epoch 10/30\n",
            "Train Loss: 0.001445\n",
            "Validation Loss: 0.000911\n",
            "==================================================\n",
            "\n"
          ]
        },
        {
          "name": "stderr",
          "output_type": "stream",
          "text": [
            "Epoch 11/30: 100%|██████████| 1000/1000 [01:12<00:00, 13.78it/s, train_loss=0.000652]\n"
          ]
        },
        {
          "name": "stdout",
          "output_type": "stream",
          "text": [
            "\n",
            "==================================================\n",
            "Epoch 11/30\n",
            "Train Loss: 0.001494\n",
            "Validation Loss: 0.000552\n",
            "==================================================\n",
            "\n"
          ]
        },
        {
          "name": "stderr",
          "output_type": "stream",
          "text": [
            "Epoch 12/30: 100%|██████████| 1000/1000 [01:11<00:00, 13.89it/s, train_loss=0.000716]\n"
          ]
        },
        {
          "name": "stdout",
          "output_type": "stream",
          "text": [
            "\n",
            "==================================================\n",
            "Epoch 12/30\n",
            "Train Loss: 0.001451\n",
            "Validation Loss: 0.000538\n",
            "==================================================\n",
            "\n"
          ]
        },
        {
          "name": "stderr",
          "output_type": "stream",
          "text": [
            "Epoch 13/30: 100%|██████████| 1000/1000 [01:11<00:00, 13.94it/s, train_loss=0.000974]\n"
          ]
        },
        {
          "name": "stdout",
          "output_type": "stream",
          "text": [
            "\n",
            "==================================================\n",
            "Epoch 13/30\n",
            "Train Loss: 0.001707\n",
            "Validation Loss: 0.000625\n",
            "==================================================\n",
            "\n"
          ]
        },
        {
          "name": "stderr",
          "output_type": "stream",
          "text": [
            "Epoch 14/30: 100%|██████████| 1000/1000 [01:11<00:00, 13.96it/s, train_loss=0.000692]\n"
          ]
        },
        {
          "name": "stdout",
          "output_type": "stream",
          "text": [
            "\n",
            "==================================================\n",
            "Epoch 14/30\n",
            "Train Loss: 0.001549\n",
            "Validation Loss: 0.000461\n",
            "==================================================\n",
            "\n"
          ]
        },
        {
          "name": "stderr",
          "output_type": "stream",
          "text": [
            "Epoch 15/30: 100%|██████████| 1000/1000 [01:12<00:00, 13.88it/s, train_loss=0.000551]\n"
          ]
        },
        {
          "name": "stdout",
          "output_type": "stream",
          "text": [
            "\n",
            "==================================================\n",
            "Epoch 15/30\n",
            "Train Loss: 0.001328\n",
            "Validation Loss: 0.000387\n",
            "==================================================\n",
            "\n"
          ]
        },
        {
          "name": "stderr",
          "output_type": "stream",
          "text": [
            "Epoch 16/30: 100%|██████████| 1000/1000 [01:10<00:00, 14.23it/s, train_loss=0.000620]\n"
          ]
        },
        {
          "name": "stdout",
          "output_type": "stream",
          "text": [
            "\n",
            "==================================================\n",
            "Epoch 16/30\n",
            "Train Loss: 0.001176\n",
            "Validation Loss: 0.000387\n",
            "==================================================\n",
            "\n"
          ]
        },
        {
          "name": "stderr",
          "output_type": "stream",
          "text": [
            "Epoch 17/30: 100%|██████████| 1000/1000 [01:13<00:00, 13.55it/s, train_loss=0.000559]\n"
          ]
        },
        {
          "name": "stdout",
          "output_type": "stream",
          "text": [
            "\n",
            "==================================================\n",
            "Epoch 17/30\n",
            "Train Loss: 0.001533\n",
            "Validation Loss: 0.000465\n",
            "==================================================\n",
            "\n"
          ]
        },
        {
          "name": "stderr",
          "output_type": "stream",
          "text": [
            "Epoch 18/30: 100%|██████████| 1000/1000 [01:14<00:00, 13.35it/s, train_loss=0.000770]\n"
          ]
        },
        {
          "name": "stdout",
          "output_type": "stream",
          "text": [
            "\n",
            "==================================================\n",
            "Epoch 18/30\n",
            "Train Loss: 0.001198\n",
            "Validation Loss: 0.000602\n",
            "==================================================\n",
            "\n"
          ]
        },
        {
          "name": "stderr",
          "output_type": "stream",
          "text": [
            "Epoch 19/30: 100%|██████████| 1000/1000 [01:17<00:00, 12.93it/s, train_loss=0.000541]\n"
          ]
        },
        {
          "name": "stdout",
          "output_type": "stream",
          "text": [
            "\n",
            "==================================================\n",
            "Epoch 19/30\n",
            "Train Loss: 0.000864\n",
            "Validation Loss: 0.000467\n",
            "==================================================\n",
            "\n"
          ]
        },
        {
          "name": "stderr",
          "output_type": "stream",
          "text": [
            "Epoch 20/30: 100%|██████████| 1000/1000 [01:18<00:00, 12.74it/s, train_loss=0.001234]\n"
          ]
        },
        {
          "name": "stdout",
          "output_type": "stream",
          "text": [
            "\n",
            "==================================================\n",
            "Epoch 20/30\n",
            "Train Loss: 0.001074\n",
            "Validation Loss: 0.000624\n",
            "==================================================\n",
            "\n"
          ]
        },
        {
          "name": "stderr",
          "output_type": "stream",
          "text": [
            "Epoch 21/30: 100%|██████████| 1000/1000 [01:14<00:00, 13.34it/s, train_loss=0.000436]\n"
          ]
        },
        {
          "name": "stdout",
          "output_type": "stream",
          "text": [
            "\n",
            "==================================================\n",
            "Epoch 21/30\n",
            "Train Loss: 0.000961\n",
            "Validation Loss: 0.000368\n",
            "==================================================\n",
            "\n"
          ]
        },
        {
          "name": "stderr",
          "output_type": "stream",
          "text": [
            "Epoch 22/30: 100%|██████████| 1000/1000 [01:15<00:00, 13.29it/s, train_loss=0.000532]\n"
          ]
        },
        {
          "name": "stdout",
          "output_type": "stream",
          "text": [
            "\n",
            "==================================================\n",
            "Epoch 22/30\n",
            "Train Loss: 0.000659\n",
            "Validation Loss: 0.000310\n",
            "==================================================\n",
            "\n"
          ]
        },
        {
          "name": "stderr",
          "output_type": "stream",
          "text": [
            "Epoch 23/30: 100%|██████████| 1000/1000 [01:09<00:00, 14.44it/s, train_loss=0.000400]\n"
          ]
        },
        {
          "name": "stdout",
          "output_type": "stream",
          "text": [
            "\n",
            "==================================================\n",
            "Epoch 23/30\n",
            "Train Loss: 0.000999\n",
            "Validation Loss: 0.000354\n",
            "==================================================\n",
            "\n"
          ]
        },
        {
          "name": "stderr",
          "output_type": "stream",
          "text": [
            "Epoch 24/30: 100%|██████████| 1000/1000 [01:10<00:00, 14.22it/s, train_loss=0.000539]\n"
          ]
        },
        {
          "name": "stdout",
          "output_type": "stream",
          "text": [
            "\n",
            "==================================================\n",
            "Epoch 24/30\n",
            "Train Loss: 0.000844\n",
            "Validation Loss: 0.000311\n",
            "==================================================\n",
            "\n"
          ]
        },
        {
          "name": "stderr",
          "output_type": "stream",
          "text": [
            "Epoch 25/30: 100%|██████████| 1000/1000 [01:10<00:00, 14.18it/s, train_loss=0.000449]\n"
          ]
        },
        {
          "name": "stdout",
          "output_type": "stream",
          "text": [
            "\n",
            "==================================================\n",
            "Epoch 25/30\n",
            "Train Loss: 0.000964\n",
            "Validation Loss: 0.000370\n",
            "==================================================\n",
            "\n"
          ]
        },
        {
          "name": "stderr",
          "output_type": "stream",
          "text": [
            "Epoch 26/30: 100%|██████████| 1000/1000 [01:10<00:00, 14.10it/s, train_loss=0.000559]\n"
          ]
        },
        {
          "name": "stdout",
          "output_type": "stream",
          "text": [
            "\n",
            "==================================================\n",
            "Epoch 26/30\n",
            "Train Loss: 0.000900\n",
            "Validation Loss: 0.000303\n",
            "==================================================\n",
            "\n"
          ]
        },
        {
          "name": "stderr",
          "output_type": "stream",
          "text": [
            "Epoch 27/30: 100%|██████████| 1000/1000 [01:09<00:00, 14.31it/s, train_loss=0.000342]\n"
          ]
        },
        {
          "name": "stdout",
          "output_type": "stream",
          "text": [
            "\n",
            "==================================================\n",
            "Epoch 27/30\n",
            "Train Loss: 0.001093\n",
            "Validation Loss: 0.000323\n",
            "==================================================\n",
            "\n"
          ]
        },
        {
          "name": "stderr",
          "output_type": "stream",
          "text": [
            "Epoch 28/30: 100%|██████████| 1000/1000 [01:09<00:00, 14.29it/s, train_loss=0.000408]\n"
          ]
        },
        {
          "name": "stdout",
          "output_type": "stream",
          "text": [
            "\n",
            "==================================================\n",
            "Epoch 28/30\n",
            "Train Loss: 0.001126\n",
            "Validation Loss: 0.000336\n",
            "==================================================\n",
            "\n"
          ]
        },
        {
          "name": "stderr",
          "output_type": "stream",
          "text": [
            "Epoch 29/30: 100%|██████████| 1000/1000 [01:12<00:00, 13.87it/s, train_loss=0.000446]\n"
          ]
        },
        {
          "name": "stdout",
          "output_type": "stream",
          "text": [
            "\n",
            "==================================================\n",
            "Epoch 29/30\n",
            "Train Loss: 0.000538\n",
            "Validation Loss: 0.000327\n",
            "==================================================\n",
            "\n"
          ]
        },
        {
          "name": "stderr",
          "output_type": "stream",
          "text": [
            "Epoch 30/30: 100%|██████████| 1000/1000 [01:14<00:00, 13.34it/s, train_loss=0.000425]\n"
          ]
        },
        {
          "name": "stdout",
          "output_type": "stream",
          "text": [
            "\n",
            "==================================================\n",
            "Epoch 30/30\n",
            "Train Loss: 0.000965\n",
            "Validation Loss: 0.000320\n",
            "==================================================\n",
            "\n"
          ]
        }
      ],
      "source": [
        "model_sequence_fusion= FNO1d(modes=32, width=64,input_channels=2,output_channels=20).to(device)\n",
        "print(\"\\nTraining model for sequence prediction (t+1 to t+20)...\")\n",
        "model_sequence_fusion = train_fno(model_sequence, train_loader, val_loader, num_epochs, device)\n",
        "torch.save(model_sequence_fusion.state_dict(), 'fno_model_sequence_fusion.pth')"
      ]
    },
    {
      "cell_type": "code",
      "execution_count": 32,
      "metadata": {},
      "outputs": [
        {
          "name": "stdout",
          "output_type": "stream",
          "text": [
            "Generated 0 samples\n"
          ]
        }
      ],
      "source": [
        "# Generate test dataset\n",
        "\n",
        "\n",
        "def generate_params() -> Tuple[int, np.ndarray, np.ndarray, np.ndarray]:\n",
        "    \"\"\"\n",
        "    Returns parameters for initial conditions.\n",
        "    \"\"\"\n",
        "    N = 10\n",
        "    lmin, lmax = 1, 3\n",
        "    A = (np.random.rand(1, N) - 0.5)\n",
        "    phi = 2.0 * np.pi * np.random.rand(1, N)\n",
        "    l = np.random.randint(lmin, lmax, (1, N))\n",
        "    return N, A, phi, l\n",
        "\n",
        "def initial_conditions(x: np.ndarray, L: int, params: Optional[list] = None) -> np.ndarray:\n",
        "    \"\"\"\n",
        "    Return initial conditions based on initial parameters.\n",
        "    \"\"\"\n",
        "    if params is None:\n",
        "        params = generate_params()\n",
        "    N, A, phi, l = params\n",
        "    u = np.sum(A * np.sin((2 * np.pi * l * x[:, None] / L) + phi), -1)\n",
        "    return u\n",
        "\n",
        "def pseudospectral(t: float, u: np.ndarray, L: float) -> np.ndarray:\n",
        "    \"\"\"\n",
        "    Compute spatial derivatives for KS equation using Fourier transform.\n",
        "    \"\"\"\n",
        "    u_x = psdiff(u, period=L)\n",
        "    u_xx = psdiff(u, period=L, order=2)\n",
        "    u_xxxx = psdiff(u, period=L, order=4)\n",
        "    uu_x = u * u_x\n",
        "\n",
        "    dudt = -uu_x - u_xx - u_xxxx\n",
        "    return dudt\n",
        "\n",
        "def generate_dataset_test(num_samples: int, L: int, N: int, T: float, tol: float, output_dir: str):\n",
        "    x = np.linspace(0,  L, N)\n",
        "    t = np.arange(0, T+0.05, 0.05)\n",
        "\n",
        "    initial_conditions_list = []\n",
        "    solutions_list = []\n",
        "\n",
        "    for i in range(num_samples):\n",
        "        u0 = initial_conditions(x, L)\n",
        "        sol_ps = solve_ivp(fun=pseudospectral, t_span=[t[0], t[-1]], y0=u0, method='Radau', t_eval=t, args=(L,), atol=tol, rtol=tol)\n",
        "        initial_conditions_list.append(u0)\n",
        "        solutions_list.append(sol_ps.y.T)\n",
        "        if i % 10 == 0:\n",
        "            print(f\"Generated {i} samples\")\n",
        "\n",
        "    initial_conditions_array = np.array(initial_conditions_list)\n",
        "    max_len = max([sol.shape[0] for sol in solutions_list])\n",
        "    solutions_array = np.zeros((num_samples, max_len, N))\n",
        "    for i, sol in enumerate(solutions_list):\n",
        "        solutions_array[i, :sol.shape[0], :] = sol\n",
        "\n",
        "    return initial_conditions_array, solutions_array\n",
        "\n",
        "\n",
        "\n",
        "# Parameters\n",
        "L = 100\n",
        "N = 256\n",
        "T = 100\n",
        "tol = 1e-6\n",
        "num_samples = 1\n",
        "test_initial_conditions, test_solutions = generate_dataset_test(num_samples, L, N, T, tol, output_dir)\n",
        "# Generate validation dataset\n",
        "#aggregate_datasets(1, 100, dt, L, N, output_dir, 'test')\n",
        "#test_inputs = np.load(os.path.join(output_dir, 'test_inputs.npy'))\n",
        "#test_outputs = np.load(os.path.join(output_dir, 'test_outputs.npy'))\n",
        "\n",
        "#sampled_inputs_test, sampled_outputs_test = sample_uniformly(test_inputs, test_outputs, 1)\n",
        "\n",
        "\n",
        "\n"
      ]
    },
    {
      "cell_type": "code",
      "execution_count": 35,
      "metadata": {},
      "outputs": [
        {
          "name": "stderr",
          "output_type": "stream",
          "text": [
            "C:\\Users\\FisherMoon25\\AppData\\Local\\Temp\\ipykernel_3888\\957026177.py:6: FutureWarning: You are using `torch.load` with `weights_only=False` (the current default value), which uses the default pickle module implicitly. It is possible to construct malicious pickle data which will execute arbitrary code during unpickling (See https://github.com/pytorch/pytorch/blob/main/SECURITY.md#untrusted-models for more details). In a future release, the default value for `weights_only` will be flipped to `True`. This limits the functions that could be executed during unpickling. Arbitrary objects will no longer be allowed to be loaded via this mode unless they are explicitly allowlisted by the user via `torch.serialization.add_safe_globals`. We recommend you start setting `weights_only=True` for any use case where you don't have full control of the loaded file. Please open an issue on GitHub for any issues related to this experimental feature.\n",
            "  model_sequence.load_state_dict(torch.load('fno_model_sequence_fusion.pth'))\n"
          ]
        },
        {
          "data": {
            "image/png": "[encoded data removed]",
            "text/plain": [
              "<Figure size 1200x600 with 1 Axes>"
            ]
          },
          "metadata": {},
          "output_type": "display_data"
        }
      ],
      "source": [
        "time_steps_to_predict = 100\n",
        "# Long sequence prediction\n",
        "test_loader_sequence = load_and_prepare_data(test_initial_conditions, test_solutions, time_steps_to_predict, device)\n",
        "\n",
        "model_sequence = FNO1d(modes=32, width=64, input_channels=2, output_channels=20).to(device)\n",
        "model_sequence.load_state_dict(torch.load('fno_model_sequence_fusion.pth'))\n",
        "model_sequence.eval()\n",
        "all_predictions_long = []\n",
        "all_targets_long = []\n",
        "\n",
        "for inputs, targets in test_loader_sequence:\n",
        "    inputs, targets = inputs.to(device), targets.to(device)\n",
        "    predictions = predict_long_sequence(model_sequence, inputs,time_steps_to_predict, device)\n",
        "    all_predictions_long.append(predictions[-1])\n",
        "    all_targets_long.append(targets.squeeze().cpu().numpy())\n",
        "\n",
        "all_predictions_long = np.array(all_predictions_long)\n",
        "all_targets_long = np.array(all_targets_long)\n",
        "\n",
        "for idx in range(1):\n",
        "    plot_comparison(all_targets_long[idx], all_predictions_long[idx], \n",
        "                    f\"Long Sequence Prediction \", \n",
        "                    f\"long_sequence_comparison.png\")\n",
        "\n",
        "\n"
      ]
    },
    {
      "cell_type": "markdown",
      "metadata": {},
      "source": [
        "# L'utilisation d'un contexte temporel\n",
        "\n",
        "L'incorporation d'un contexte temporel étendu (t-2, t-1, t) dans notre modèle FNO pour l'équation de Kuramoto est motivée par la nature dynamique et non-linéaire du système. En fournissant au modèle des informations sur les états précédents, nous lui permettons de capturer des tendances et des motifs d'évolution qui pourraient ne pas être apparents en ne considérant qu'un seul instant. "
      ]
    },
    {
      "cell_type": "code",
      "execution_count": 37,
      "metadata": {},
      "outputs": [
        {
          "name": "stdout",
          "output_type": "stream",
          "text": [
            "Loading datasets...\n",
            "Converting numpy arrays to PyTorch tensors...\n",
            "Train inputs shape: (124895, 256, 4)\n",
            "Train outputs shape: (124895, 20, 256)\n",
            "New train inputs shape: (124895, 256, 4)\n",
            "New train outputs shape: (124895, 20, 256)\n",
            "Converting numpy arrays to PyTorch tensors...\n",
            "Creating TensorDatasets...\n",
            "Creating DataLoaders...\n"
          ]
        }
      ],
      "source": [
        "# Load the datasets\n",
        "print(\"Loading datasets...\")\n",
        "train_inputs = np.load(os.path.join(output_dir, 'train_inputs_ex1_multi.npy'))\n",
        "train_outputs = np.load(os.path.join(output_dir, 'train_outputs_ex1_multi.npy'))\n",
        "#val_inputs = np.load(os.path.join(output_dir, 'val_inputs_ex1_multi.npy'))\n",
        "#val_outputs = np.load(os.path.join(output_dir, 'val_outputs_ex1_multi.npy'))\n",
        "\n",
        "# Convert numpy arrays to PyTorch tensors\n",
        "print(\"Converting numpy arrays to PyTorch tensors...\")\n",
        "train_inputs_tensor = torch.tensor(train_inputs, dtype=torch.float32)\n",
        "train_outputs_tensor = torch.tensor(train_outputs, dtype=torch.float32)\n",
        "\n",
        "\n",
        "\n",
        "# Ensure correct dimensions and types\n",
        "print(f\"Train inputs shape: {train_inputs.shape}\")\n",
        "print(f\"Train outputs shape: {train_outputs.shape}\")\n",
        "\n",
        "\n",
        "\n",
        "\n",
        "\n",
        "# Verify the new shapes\n",
        "print(f\"New train inputs shape: {train_inputs.shape}\")\n",
        "print(f\"New train outputs shape: {train_outputs.shape}\")\n",
        "\n",
        "num_samples_train = 50000\n",
        "num_samples_val = 1000\n",
        "\n",
        "\n",
        "# Uniformly sample 10,000 pairs from the training set\n",
        "sampled_train_inputs, sampled_train_outputs = sample_uniformly(train_inputs, train_outputs, num_samples_train)\n",
        "\n",
        "\n",
        "\n",
        "\n",
        "# Convert numpy arrays to PyTorch tensors\n",
        "print(\"Converting numpy arrays to PyTorch tensors...\")\n",
        "sampled_train_inputs_tensor = torch.tensor(sampled_train_inputs, dtype=torch.float32)\n",
        "sampled_train_outputs_tensor = torch.tensor(sampled_train_outputs, dtype=torch.float32)\n",
        "#sampled_val_inputs_tensor = torch.tensor(sampled_inputs_val, dtype=torch.float32)\n",
        "#sampled_val_outputs_tensor = torch.tensor(sampled_outputs_val, dtype=torch.float32)\n",
        "\n",
        "# Create TensorDatasets\n",
        "print(\"Creating TensorDatasets...\")\n",
        "train_dataset = TensorDataset(sampled_train_inputs_tensor, sampled_train_outputs_tensor)\n",
        "#val_dataset = TensorDataset(sampled_val_inputs_tensor, sampled_val_outputs_tensor)\n",
        "\n",
        "\n",
        "\n",
        "\n",
        "# Create DataLoaders\n",
        "batch_size = 50\n",
        "print(\"Creating DataLoaders...\")\n",
        "train_loader = DataLoader(train_dataset, batch_size=batch_size, shuffle=True)\n",
        "#val_loader = DataLoader(val_dataset, batch_size=batch_size, shuffle=False)"
      ]
    },
    {
      "cell_type": "code",
      "execution_count": 105,
      "metadata": {},
      "outputs": [],
      "source": [
        "def train_fno_context(model, train_loader, num_epochs, device ):\n",
        "    optimizer = optim.Adam(model.parameters(), lr=0.0001, weight_decay=1e-5)\n",
        "    scheduler = OneCycleLR(optimizer, max_lr=0.0001, epochs=num_epochs, steps_per_epoch=len(train_loader))\n",
        "    criterion = nn.MSELoss()\n",
        "\n",
        "    for epoch in range(num_epochs):\n",
        "        model.train()\n",
        "        train_loss = 0.0\n",
        "        \n",
        "        progress_bar = tqdm(train_loader, desc=f\"Epoch {epoch + 1}/{num_epochs}\")\n",
        "        for inputs, targets in progress_bar:\n",
        "            inputs, targets = inputs.to(device), targets.to(device)\n",
        "            \n",
        "            optimizer.zero_grad()\n",
        "            outputs = model(inputs).squeeze(-1)\n",
        "            \n",
        "            loss = criterion(outputs, targets)\n",
        "            \n",
        "            loss.backward()\n",
        "            optimizer.step()\n",
        "            scheduler.step()\n",
        "            \n",
        "            train_loss += loss.item()\n",
        "            progress_bar.set_postfix({'train_loss': f'{loss.item():.6f}'})\n",
        "        \n",
        "        train_loss /= len(train_loader)\n",
        "        \n",
        "       \n",
        "        \n",
        "        print(f\"\\n{'=' * 50}\")\n",
        "        print(f\"Epoch {epoch + 1}/{num_epochs}\")\n",
        "        print(f\"Train Loss: {train_loss:.6f}\")\n",
        "        print(f\"{'=' * 50}\\n\")\n",
        "\n",
        "    return model\n",
        "\n",
        "def train_fno_context_combined(model, train_loader, num_epochs, device ):\n",
        "    optimizer = optim.Adam(model.parameters(), lr=0.0001, weight_decay=1e-5)\n",
        "    scheduler = OneCycleLR(optimizer, max_lr=0.0001, epochs=num_epochs, steps_per_epoch=len(train_loader))\n",
        "    criterion = CombinedLoss(1,1,k=1)\n",
        "\n",
        "    for epoch in range(num_epochs):\n",
        "        model.train()\n",
        "        train_loss = 0.0\n",
        "        \n",
        "        progress_bar = tqdm(train_loader, desc=f\"Epoch {epoch + 1}/{num_epochs}\")\n",
        "        for inputs, targets in progress_bar:\n",
        "            inputs, targets = inputs.to(device), targets.to(device)\n",
        "            \n",
        "            optimizer.zero_grad()\n",
        "            outputs = model(inputs).squeeze(-1)\n",
        "            \n",
        "            loss = criterion(outputs, targets)\n",
        "            \n",
        "            loss.backward()\n",
        "            optimizer.step()\n",
        "            scheduler.step()\n",
        "            \n",
        "            train_loss += loss.item()\n",
        "            progress_bar.set_postfix({'train_loss': f'{loss.item():.6f}'})\n",
        "        \n",
        "        train_loss /= len(train_loader)\n",
        "        \n",
        "       \n",
        "        \n",
        "        print(f\"\\n{'=' * 50}\")\n",
        "        print(f\"Epoch {epoch + 1}/{num_epochs}\")\n",
        "        print(f\"Train Loss: {train_loss:.6f}\")\n",
        "        print(f\"{'=' * 50}\\n\")\n",
        "\n",
        "    return model"
      ]
    },
    {
      "cell_type": "code",
      "execution_count": 76,
      "metadata": {},
      "outputs": [
        {
          "name": "stdout",
          "output_type": "stream",
          "text": [
            "\n",
            "Training model for sequence prediction (t+1 to t+20)...\n"
          ]
        },
        {
          "name": "stderr",
          "output_type": "stream",
          "text": [
            "Epoch 1/30:   0%|          | 0/1000 [00:00<?, ?it/s, train_loss=6.108315]"
          ]
        },
        {
          "name": "stderr",
          "output_type": "stream",
          "text": [
            "Epoch 1/30: 100%|██████████| 1000/1000 [00:26<00:00, 37.80it/s, train_loss=1.420377]\n"
          ]
        },
        {
          "name": "stdout",
          "output_type": "stream",
          "text": [
            "\n",
            "==================================================\n",
            "Epoch 1/30\n",
            "Train Loss: 2.443449\n",
            "==================================================\n",
            "\n"
          ]
        },
        {
          "name": "stderr",
          "output_type": "stream",
          "text": [
            "Epoch 2/30: 100%|██████████| 1000/1000 [00:26<00:00, 37.34it/s, train_loss=0.280037]\n"
          ]
        },
        {
          "name": "stdout",
          "output_type": "stream",
          "text": [
            "\n",
            "==================================================\n",
            "Epoch 2/30\n",
            "Train Loss: 0.564579\n",
            "==================================================\n",
            "\n"
          ]
        },
        {
          "name": "stderr",
          "output_type": "stream",
          "text": [
            "Epoch 3/30: 100%|██████████| 1000/1000 [00:27<00:00, 36.42it/s, train_loss=0.067257]\n"
          ]
        },
        {
          "name": "stdout",
          "output_type": "stream",
          "text": [
            "\n",
            "==================================================\n",
            "Epoch 3/30\n",
            "Train Loss: 0.172379\n",
            "==================================================\n",
            "\n"
          ]
        },
        {
          "name": "stderr",
          "output_type": "stream",
          "text": [
            "Epoch 4/30: 100%|██████████| 1000/1000 [00:26<00:00, 37.43it/s, train_loss=0.013881]\n"
          ]
        },
        {
          "name": "stdout",
          "output_type": "stream",
          "text": [
            "\n",
            "==================================================\n",
            "Epoch 4/30\n",
            "Train Loss: 0.031779\n",
            "==================================================\n",
            "\n"
          ]
        },
        {
          "name": "stderr",
          "output_type": "stream",
          "text": [
            "Epoch 5/30: 100%|██████████| 1000/1000 [00:26<00:00, 38.16it/s, train_loss=0.004597]\n"
          ]
        },
        {
          "name": "stdout",
          "output_type": "stream",
          "text": [
            "\n",
            "==================================================\n",
            "Epoch 5/30\n",
            "Train Loss: 0.009149\n",
            "==================================================\n",
            "\n"
          ]
        },
        {
          "name": "stderr",
          "output_type": "stream",
          "text": [
            "Epoch 6/30: 100%|██████████| 1000/1000 [00:26<00:00, 38.19it/s, train_loss=0.001895]\n"
          ]
        },
        {
          "name": "stdout",
          "output_type": "stream",
          "text": [
            "\n",
            "==================================================\n",
            "Epoch 6/30\n",
            "Train Loss: 0.004479\n",
            "==================================================\n",
            "\n"
          ]
        },
        {
          "name": "stderr",
          "output_type": "stream",
          "text": [
            "Epoch 7/30: 100%|██████████| 1000/1000 [00:26<00:00, 38.32it/s, train_loss=0.002475]\n"
          ]
        },
        {
          "name": "stdout",
          "output_type": "stream",
          "text": [
            "\n",
            "==================================================\n",
            "Epoch 7/30\n",
            "Train Loss: 0.002831\n",
            "==================================================\n",
            "\n"
          ]
        },
        {
          "name": "stderr",
          "output_type": "stream",
          "text": [
            "Epoch 8/30: 100%|██████████| 1000/1000 [00:26<00:00, 38.32it/s, train_loss=0.000990]\n"
          ]
        },
        {
          "name": "stdout",
          "output_type": "stream",
          "text": [
            "\n",
            "==================================================\n",
            "Epoch 8/30\n",
            "Train Loss: 0.002129\n",
            "==================================================\n",
            "\n"
          ]
        },
        {
          "name": "stderr",
          "output_type": "stream",
          "text": [
            "Epoch 9/30: 100%|██████████| 1000/1000 [00:26<00:00, 37.49it/s, train_loss=0.000903]\n"
          ]
        },
        {
          "name": "stdout",
          "output_type": "stream",
          "text": [
            "\n",
            "==================================================\n",
            "Epoch 9/30\n",
            "Train Loss: 0.001632\n",
            "==================================================\n",
            "\n"
          ]
        },
        {
          "name": "stderr",
          "output_type": "stream",
          "text": [
            "Epoch 10/30: 100%|██████████| 1000/1000 [00:28<00:00, 34.98it/s, train_loss=0.000977]\n"
          ]
        },
        {
          "name": "stdout",
          "output_type": "stream",
          "text": [
            "\n",
            "==================================================\n",
            "Epoch 10/30\n",
            "Train Loss: 0.001572\n",
            "==================================================\n",
            "\n"
          ]
        },
        {
          "name": "stderr",
          "output_type": "stream",
          "text": [
            "Epoch 11/30: 100%|██████████| 1000/1000 [00:32<00:00, 30.52it/s, train_loss=0.001000]\n"
          ]
        },
        {
          "name": "stdout",
          "output_type": "stream",
          "text": [
            "\n",
            "==================================================\n",
            "Epoch 11/30\n",
            "Train Loss: 0.000966\n",
            "==================================================\n",
            "\n"
          ]
        },
        {
          "name": "stderr",
          "output_type": "stream",
          "text": [
            "Epoch 12/30: 100%|██████████| 1000/1000 [00:29<00:00, 33.93it/s, train_loss=0.000958]\n"
          ]
        },
        {
          "name": "stdout",
          "output_type": "stream",
          "text": [
            "\n",
            "==================================================\n",
            "Epoch 12/30\n",
            "Train Loss: 0.001040\n",
            "==================================================\n",
            "\n"
          ]
        },
        {
          "name": "stderr",
          "output_type": "stream",
          "text": [
            "Epoch 13/30: 100%|██████████| 1000/1000 [00:26<00:00, 37.62it/s, train_loss=0.000760]\n"
          ]
        },
        {
          "name": "stdout",
          "output_type": "stream",
          "text": [
            "\n",
            "==================================================\n",
            "Epoch 13/30\n",
            "Train Loss: 0.000798\n",
            "==================================================\n",
            "\n"
          ]
        },
        {
          "name": "stderr",
          "output_type": "stream",
          "text": [
            "Epoch 14/30: 100%|██████████| 1000/1000 [00:30<00:00, 33.31it/s, train_loss=0.000828]\n"
          ]
        },
        {
          "name": "stdout",
          "output_type": "stream",
          "text": [
            "\n",
            "==================================================\n",
            "Epoch 14/30\n",
            "Train Loss: 0.000611\n",
            "==================================================\n",
            "\n"
          ]
        },
        {
          "name": "stderr",
          "output_type": "stream",
          "text": [
            "Epoch 15/30: 100%|██████████| 1000/1000 [00:30<00:00, 33.24it/s, train_loss=0.000418]\n"
          ]
        },
        {
          "name": "stdout",
          "output_type": "stream",
          "text": [
            "\n",
            "==================================================\n",
            "Epoch 15/30\n",
            "Train Loss: 0.000574\n",
            "==================================================\n",
            "\n"
          ]
        },
        {
          "name": "stderr",
          "output_type": "stream",
          "text": [
            "Epoch 16/30: 100%|██████████| 1000/1000 [00:29<00:00, 34.00it/s, train_loss=0.000345]\n"
          ]
        },
        {
          "name": "stdout",
          "output_type": "stream",
          "text": [
            "\n",
            "==================================================\n",
            "Epoch 16/30\n",
            "Train Loss: 0.000494\n",
            "==================================================\n",
            "\n"
          ]
        },
        {
          "name": "stderr",
          "output_type": "stream",
          "text": [
            "Epoch 17/30: 100%|██████████| 1000/1000 [00:29<00:00, 34.17it/s, train_loss=0.000350]\n"
          ]
        },
        {
          "name": "stdout",
          "output_type": "stream",
          "text": [
            "\n",
            "==================================================\n",
            "Epoch 17/30\n",
            "Train Loss: 0.000451\n",
            "==================================================\n",
            "\n"
          ]
        },
        {
          "name": "stderr",
          "output_type": "stream",
          "text": [
            "Epoch 18/30: 100%|██████████| 1000/1000 [00:26<00:00, 37.47it/s, train_loss=0.000288]\n"
          ]
        },
        {
          "name": "stdout",
          "output_type": "stream",
          "text": [
            "\n",
            "==================================================\n",
            "Epoch 18/30\n",
            "Train Loss: 0.000371\n",
            "==================================================\n",
            "\n"
          ]
        },
        {
          "name": "stderr",
          "output_type": "stream",
          "text": [
            "Epoch 19/30: 100%|██████████| 1000/1000 [00:28<00:00, 35.36it/s, train_loss=0.000560]\n"
          ]
        },
        {
          "name": "stdout",
          "output_type": "stream",
          "text": [
            "\n",
            "==================================================\n",
            "Epoch 19/30\n",
            "Train Loss: 0.000331\n",
            "==================================================\n",
            "\n"
          ]
        },
        {
          "name": "stderr",
          "output_type": "stream",
          "text": [
            "Epoch 20/30: 100%|██████████| 1000/1000 [00:27<00:00, 36.12it/s, train_loss=0.000190]\n"
          ]
        },
        {
          "name": "stdout",
          "output_type": "stream",
          "text": [
            "\n",
            "==================================================\n",
            "Epoch 20/30\n",
            "Train Loss: 0.000296\n",
            "==================================================\n",
            "\n"
          ]
        },
        {
          "name": "stderr",
          "output_type": "stream",
          "text": [
            "Epoch 21/30: 100%|██████████| 1000/1000 [00:31<00:00, 31.41it/s, train_loss=0.000347]\n"
          ]
        },
        {
          "name": "stdout",
          "output_type": "stream",
          "text": [
            "\n",
            "==================================================\n",
            "Epoch 21/30\n",
            "Train Loss: 0.000275\n",
            "==================================================\n",
            "\n"
          ]
        },
        {
          "name": "stderr",
          "output_type": "stream",
          "text": [
            "Epoch 22/30: 100%|██████████| 1000/1000 [00:29<00:00, 34.41it/s, train_loss=0.000184]\n"
          ]
        },
        {
          "name": "stdout",
          "output_type": "stream",
          "text": [
            "\n",
            "==================================================\n",
            "Epoch 22/30\n",
            "Train Loss: 0.000252\n",
            "==================================================\n",
            "\n"
          ]
        },
        {
          "name": "stderr",
          "output_type": "stream",
          "text": [
            "Epoch 23/30: 100%|██████████| 1000/1000 [00:27<00:00, 36.86it/s, train_loss=0.000268]\n"
          ]
        },
        {
          "name": "stdout",
          "output_type": "stream",
          "text": [
            "\n",
            "==================================================\n",
            "Epoch 23/30\n",
            "Train Loss: 0.000235\n",
            "==================================================\n",
            "\n"
          ]
        },
        {
          "name": "stderr",
          "output_type": "stream",
          "text": [
            "Epoch 24/30: 100%|██████████| 1000/1000 [00:27<00:00, 36.90it/s, train_loss=0.000298]\n"
          ]
        },
        {
          "name": "stdout",
          "output_type": "stream",
          "text": [
            "\n",
            "==================================================\n",
            "Epoch 24/30\n",
            "Train Loss: 0.000236\n",
            "==================================================\n",
            "\n"
          ]
        },
        {
          "name": "stderr",
          "output_type": "stream",
          "text": [
            "Epoch 25/30: 100%|██████████| 1000/1000 [00:27<00:00, 36.79it/s, train_loss=0.000192]\n"
          ]
        },
        {
          "name": "stdout",
          "output_type": "stream",
          "text": [
            "\n",
            "==================================================\n",
            "Epoch 25/30\n",
            "Train Loss: 0.000221\n",
            "==================================================\n",
            "\n"
          ]
        },
        {
          "name": "stderr",
          "output_type": "stream",
          "text": [
            "Epoch 26/30: 100%|██████████| 1000/1000 [00:27<00:00, 37.00it/s, train_loss=0.000169]\n"
          ]
        },
        {
          "name": "stdout",
          "output_type": "stream",
          "text": [
            "\n",
            "==================================================\n",
            "Epoch 26/30\n",
            "Train Loss: 0.000220\n",
            "==================================================\n",
            "\n"
          ]
        },
        {
          "name": "stderr",
          "output_type": "stream",
          "text": [
            "Epoch 27/30: 100%|██████████| 1000/1000 [00:27<00:00, 37.04it/s, train_loss=0.000205]\n"
          ]
        },
        {
          "name": "stdout",
          "output_type": "stream",
          "text": [
            "\n",
            "==================================================\n",
            "Epoch 27/30\n",
            "Train Loss: 0.000204\n",
            "==================================================\n",
            "\n"
          ]
        },
        {
          "name": "stderr",
          "output_type": "stream",
          "text": [
            "Epoch 28/30: 100%|██████████| 1000/1000 [00:26<00:00, 37.04it/s, train_loss=0.000148]\n"
          ]
        },
        {
          "name": "stdout",
          "output_type": "stream",
          "text": [
            "\n",
            "==================================================\n",
            "Epoch 28/30\n",
            "Train Loss: 0.000198\n",
            "==================================================\n",
            "\n"
          ]
        },
        {
          "name": "stderr",
          "output_type": "stream",
          "text": [
            "Epoch 29/30: 100%|██████████| 1000/1000 [00:27<00:00, 36.69it/s, train_loss=0.000177]\n"
          ]
        },
        {
          "name": "stdout",
          "output_type": "stream",
          "text": [
            "\n",
            "==================================================\n",
            "Epoch 29/30\n",
            "Train Loss: 0.000195\n",
            "==================================================\n",
            "\n"
          ]
        },
        {
          "name": "stderr",
          "output_type": "stream",
          "text": [
            "Epoch 30/30: 100%|██████████| 1000/1000 [00:27<00:00, 36.53it/s, train_loss=0.000226]"
          ]
        },
        {
          "name": "stdout",
          "output_type": "stream",
          "text": [
            "\n",
            "==================================================\n",
            "Epoch 30/30\n",
            "Train Loss: 0.000193\n",
            "==================================================\n",
            "\n"
          ]
        },
        {
          "name": "stderr",
          "output_type": "stream",
          "text": [
            "\n"
          ]
        }
      ],
      "source": [
        "model_sequence_context= FNO1d(modes=32, width=64,input_channels=4,output_channels=20).to(device)\n",
        "print(\"\\nTraining model for sequence prediction (t+1 to t+20)...\")\n",
        "model_sequence_context = train_fno_context(model_sequence_context, train_loader ,num_epochs, device)\n",
        "torch.save(model_sequence_context.state_dict(), 'fno_model_sequence_context.pth')"
      ]
    },
    {
      "cell_type": "code",
      "execution_count": 106,
      "metadata": {},
      "outputs": [
        {
          "name": "stdout",
          "output_type": "stream",
          "text": [
            "\n",
            "Training model for sequence prediction (t+1 to t+20)...\n"
          ]
        },
        {
          "name": "stderr",
          "output_type": "stream",
          "text": [
            "Epoch 1/30:   0%|          | 0/1000 [00:00<?, ?it/s]"
          ]
        },
        {
          "name": "stderr",
          "output_type": "stream",
          "text": [
            "Epoch 1/30: 100%|██████████| 1000/1000 [00:30<00:00, 32.42it/s, train_loss=1.960556]\n"
          ]
        },
        {
          "name": "stdout",
          "output_type": "stream",
          "text": [
            "\n",
            "==================================================\n",
            "Epoch 1/30\n",
            "Train Loss: 3.250417\n",
            "==================================================\n",
            "\n"
          ]
        },
        {
          "name": "stderr",
          "output_type": "stream",
          "text": [
            "Epoch 2/30: 100%|██████████| 1000/1000 [00:29<00:00, 33.53it/s, train_loss=0.232068]\n"
          ]
        },
        {
          "name": "stdout",
          "output_type": "stream",
          "text": [
            "\n",
            "==================================================\n",
            "Epoch 2/30\n",
            "Train Loss: 0.771385\n",
            "==================================================\n",
            "\n"
          ]
        },
        {
          "name": "stderr",
          "output_type": "stream",
          "text": [
            "Epoch 3/30: 100%|██████████| 1000/1000 [00:34<00:00, 28.99it/s, train_loss=0.066194]\n"
          ]
        },
        {
          "name": "stdout",
          "output_type": "stream",
          "text": [
            "\n",
            "==================================================\n",
            "Epoch 3/30\n",
            "Train Loss: 0.142251\n",
            "==================================================\n",
            "\n"
          ]
        },
        {
          "name": "stderr",
          "output_type": "stream",
          "text": [
            "Epoch 4/30: 100%|██████████| 1000/1000 [00:38<00:00, 26.31it/s, train_loss=0.017476]\n"
          ]
        },
        {
          "name": "stdout",
          "output_type": "stream",
          "text": [
            "\n",
            "==================================================\n",
            "Epoch 4/30\n",
            "Train Loss: 0.034773\n",
            "==================================================\n",
            "\n"
          ]
        },
        {
          "name": "stderr",
          "output_type": "stream",
          "text": [
            "Epoch 5/30: 100%|██████████| 1000/1000 [00:31<00:00, 31.26it/s, train_loss=0.007061]\n"
          ]
        },
        {
          "name": "stdout",
          "output_type": "stream",
          "text": [
            "\n",
            "==================================================\n",
            "Epoch 5/30\n",
            "Train Loss: 0.011579\n",
            "==================================================\n",
            "\n"
          ]
        },
        {
          "name": "stderr",
          "output_type": "stream",
          "text": [
            "Epoch 6/30: 100%|██████████| 1000/1000 [00:32<00:00, 31.12it/s, train_loss=0.003542]\n"
          ]
        },
        {
          "name": "stdout",
          "output_type": "stream",
          "text": [
            "\n",
            "==================================================\n",
            "Epoch 6/30\n",
            "Train Loss: 0.004909\n",
            "==================================================\n",
            "\n"
          ]
        },
        {
          "name": "stderr",
          "output_type": "stream",
          "text": [
            "Epoch 7/30: 100%|██████████| 1000/1000 [00:32<00:00, 30.50it/s, train_loss=0.009654]\n"
          ]
        },
        {
          "name": "stdout",
          "output_type": "stream",
          "text": [
            "\n",
            "==================================================\n",
            "Epoch 7/30\n",
            "Train Loss: 0.003331\n",
            "==================================================\n",
            "\n"
          ]
        },
        {
          "name": "stderr",
          "output_type": "stream",
          "text": [
            "Epoch 8/30: 100%|██████████| 1000/1000 [00:32<00:00, 30.78it/s, train_loss=0.001357]\n"
          ]
        },
        {
          "name": "stdout",
          "output_type": "stream",
          "text": [
            "\n",
            "==================================================\n",
            "Epoch 8/30\n",
            "Train Loss: 0.002674\n",
            "==================================================\n",
            "\n"
          ]
        },
        {
          "name": "stderr",
          "output_type": "stream",
          "text": [
            "Epoch 9/30: 100%|██████████| 1000/1000 [00:34<00:00, 28.90it/s, train_loss=0.001018]\n"
          ]
        },
        {
          "name": "stdout",
          "output_type": "stream",
          "text": [
            "\n",
            "==================================================\n",
            "Epoch 9/30\n",
            "Train Loss: 0.002090\n",
            "==================================================\n",
            "\n"
          ]
        },
        {
          "name": "stderr",
          "output_type": "stream",
          "text": [
            "Epoch 10/30: 100%|██████████| 1000/1000 [00:32<00:00, 30.94it/s, train_loss=0.001390]\n"
          ]
        },
        {
          "name": "stdout",
          "output_type": "stream",
          "text": [
            "\n",
            "==================================================\n",
            "Epoch 10/30\n",
            "Train Loss: 0.001705\n",
            "==================================================\n",
            "\n"
          ]
        },
        {
          "name": "stderr",
          "output_type": "stream",
          "text": [
            "Epoch 11/30: 100%|██████████| 1000/1000 [00:32<00:00, 30.44it/s, train_loss=0.001639]\n"
          ]
        },
        {
          "name": "stdout",
          "output_type": "stream",
          "text": [
            "\n",
            "==================================================\n",
            "Epoch 11/30\n",
            "Train Loss: 0.001463\n",
            "==================================================\n",
            "\n"
          ]
        },
        {
          "name": "stderr",
          "output_type": "stream",
          "text": [
            "Epoch 12/30: 100%|██████████| 1000/1000 [00:31<00:00, 31.27it/s, train_loss=0.001350]\n"
          ]
        },
        {
          "name": "stdout",
          "output_type": "stream",
          "text": [
            "\n",
            "==================================================\n",
            "Epoch 12/30\n",
            "Train Loss: 0.001316\n",
            "==================================================\n",
            "\n"
          ]
        },
        {
          "name": "stderr",
          "output_type": "stream",
          "text": [
            "Epoch 13/30: 100%|██████████| 1000/1000 [00:32<00:00, 30.89it/s, train_loss=0.000623]\n"
          ]
        },
        {
          "name": "stdout",
          "output_type": "stream",
          "text": [
            "\n",
            "==================================================\n",
            "Epoch 13/30\n",
            "Train Loss: 0.001050\n",
            "==================================================\n",
            "\n"
          ]
        },
        {
          "name": "stderr",
          "output_type": "stream",
          "text": [
            "Epoch 14/30: 100%|██████████| 1000/1000 [00:35<00:00, 27.99it/s, train_loss=0.000818]\n"
          ]
        },
        {
          "name": "stdout",
          "output_type": "stream",
          "text": [
            "\n",
            "==================================================\n",
            "Epoch 14/30\n",
            "Train Loss: 0.000942\n",
            "==================================================\n",
            "\n"
          ]
        },
        {
          "name": "stderr",
          "output_type": "stream",
          "text": [
            "Epoch 15/30: 100%|██████████| 1000/1000 [00:40<00:00, 24.89it/s, train_loss=0.000698]\n"
          ]
        },
        {
          "name": "stdout",
          "output_type": "stream",
          "text": [
            "\n",
            "==================================================\n",
            "Epoch 15/30\n",
            "Train Loss: 0.000800\n",
            "==================================================\n",
            "\n"
          ]
        },
        {
          "name": "stderr",
          "output_type": "stream",
          "text": [
            "Epoch 16/30: 100%|██████████| 1000/1000 [00:30<00:00, 32.46it/s, train_loss=0.000662]\n"
          ]
        },
        {
          "name": "stdout",
          "output_type": "stream",
          "text": [
            "\n",
            "==================================================\n",
            "Epoch 16/30\n",
            "Train Loss: 0.000682\n",
            "==================================================\n",
            "\n"
          ]
        },
        {
          "name": "stderr",
          "output_type": "stream",
          "text": [
            "Epoch 17/30: 100%|██████████| 1000/1000 [00:31<00:00, 32.22it/s, train_loss=0.000407]\n"
          ]
        },
        {
          "name": "stdout",
          "output_type": "stream",
          "text": [
            "\n",
            "==================================================\n",
            "Epoch 17/30\n",
            "Train Loss: 0.000615\n",
            "==================================================\n",
            "\n"
          ]
        },
        {
          "name": "stderr",
          "output_type": "stream",
          "text": [
            "Epoch 18/30: 100%|██████████| 1000/1000 [00:33<00:00, 29.47it/s, train_loss=0.000450]\n"
          ]
        },
        {
          "name": "stdout",
          "output_type": "stream",
          "text": [
            "\n",
            "==================================================\n",
            "Epoch 18/30\n",
            "Train Loss: 0.000523\n",
            "==================================================\n",
            "\n"
          ]
        },
        {
          "name": "stderr",
          "output_type": "stream",
          "text": [
            "Epoch 19/30: 100%|██████████| 1000/1000 [00:33<00:00, 30.10it/s, train_loss=0.000503]\n"
          ]
        },
        {
          "name": "stdout",
          "output_type": "stream",
          "text": [
            "\n",
            "==================================================\n",
            "Epoch 19/30\n",
            "Train Loss: 0.000469\n",
            "==================================================\n",
            "\n"
          ]
        },
        {
          "name": "stderr",
          "output_type": "stream",
          "text": [
            "Epoch 20/30: 100%|██████████| 1000/1000 [00:35<00:00, 28.48it/s, train_loss=0.000382]\n"
          ]
        },
        {
          "name": "stdout",
          "output_type": "stream",
          "text": [
            "\n",
            "==================================================\n",
            "Epoch 20/30\n",
            "Train Loss: 0.000416\n",
            "==================================================\n",
            "\n"
          ]
        },
        {
          "name": "stderr",
          "output_type": "stream",
          "text": [
            "Epoch 21/30: 100%|██████████| 1000/1000 [00:32<00:00, 30.51it/s, train_loss=0.000431]\n"
          ]
        },
        {
          "name": "stdout",
          "output_type": "stream",
          "text": [
            "\n",
            "==================================================\n",
            "Epoch 21/30\n",
            "Train Loss: 0.000375\n",
            "==================================================\n",
            "\n"
          ]
        },
        {
          "name": "stderr",
          "output_type": "stream",
          "text": [
            "Epoch 22/30: 100%|██████████| 1000/1000 [00:34<00:00, 29.13it/s, train_loss=0.000520]\n"
          ]
        },
        {
          "name": "stdout",
          "output_type": "stream",
          "text": [
            "\n",
            "==================================================\n",
            "Epoch 22/30\n",
            "Train Loss: 0.000353\n",
            "==================================================\n",
            "\n"
          ]
        },
        {
          "name": "stderr",
          "output_type": "stream",
          "text": [
            "Epoch 23/30: 100%|██████████| 1000/1000 [00:34<00:00, 28.80it/s, train_loss=0.000255]\n"
          ]
        },
        {
          "name": "stdout",
          "output_type": "stream",
          "text": [
            "\n",
            "==================================================\n",
            "Epoch 23/30\n",
            "Train Loss: 0.000328\n",
            "==================================================\n",
            "\n"
          ]
        },
        {
          "name": "stderr",
          "output_type": "stream",
          "text": [
            "Epoch 24/30: 100%|██████████| 1000/1000 [00:35<00:00, 28.19it/s, train_loss=0.000323]\n"
          ]
        },
        {
          "name": "stdout",
          "output_type": "stream",
          "text": [
            "\n",
            "==================================================\n",
            "Epoch 24/30\n",
            "Train Loss: 0.000307\n",
            "==================================================\n",
            "\n"
          ]
        },
        {
          "name": "stderr",
          "output_type": "stream",
          "text": [
            "Epoch 25/30: 100%|██████████| 1000/1000 [00:35<00:00, 28.39it/s, train_loss=0.000342]\n"
          ]
        },
        {
          "name": "stdout",
          "output_type": "stream",
          "text": [
            "\n",
            "==================================================\n",
            "Epoch 25/30\n",
            "Train Loss: 0.000295\n",
            "==================================================\n",
            "\n"
          ]
        },
        {
          "name": "stderr",
          "output_type": "stream",
          "text": [
            "Epoch 26/30: 100%|██████████| 1000/1000 [00:30<00:00, 32.98it/s, train_loss=0.000263]\n"
          ]
        },
        {
          "name": "stdout",
          "output_type": "stream",
          "text": [
            "\n",
            "==================================================\n",
            "Epoch 26/30\n",
            "Train Loss: 0.000284\n",
            "==================================================\n",
            "\n"
          ]
        },
        {
          "name": "stderr",
          "output_type": "stream",
          "text": [
            "Epoch 27/30: 100%|██████████| 1000/1000 [00:29<00:00, 33.80it/s, train_loss=0.000281]\n"
          ]
        },
        {
          "name": "stdout",
          "output_type": "stream",
          "text": [
            "\n",
            "==================================================\n",
            "Epoch 27/30\n",
            "Train Loss: 0.000275\n",
            "==================================================\n",
            "\n"
          ]
        },
        {
          "name": "stderr",
          "output_type": "stream",
          "text": [
            "Epoch 28/30: 100%|██████████| 1000/1000 [00:29<00:00, 33.89it/s, train_loss=0.000343]\n"
          ]
        },
        {
          "name": "stdout",
          "output_type": "stream",
          "text": [
            "\n",
            "==================================================\n",
            "Epoch 28/30\n",
            "Train Loss: 0.000269\n",
            "==================================================\n",
            "\n"
          ]
        },
        {
          "name": "stderr",
          "output_type": "stream",
          "text": [
            "Epoch 29/30: 100%|██████████| 1000/1000 [00:29<00:00, 34.27it/s, train_loss=0.000246]\n"
          ]
        },
        {
          "name": "stdout",
          "output_type": "stream",
          "text": [
            "\n",
            "==================================================\n",
            "Epoch 29/30\n",
            "Train Loss: 0.000265\n",
            "==================================================\n",
            "\n"
          ]
        },
        {
          "name": "stderr",
          "output_type": "stream",
          "text": [
            "Epoch 30/30: 100%|██████████| 1000/1000 [00:29<00:00, 34.03it/s, train_loss=0.000228]"
          ]
        },
        {
          "name": "stdout",
          "output_type": "stream",
          "text": [
            "\n",
            "==================================================\n",
            "Epoch 30/30\n",
            "Train Loss: 0.000264\n",
            "==================================================\n",
            "\n"
          ]
        },
        {
          "name": "stderr",
          "output_type": "stream",
          "text": [
            "\n"
          ]
        }
      ],
      "source": [
        "model_sequence_context_combined= FNO1d(modes=32, width=64,input_channels=4,output_channels=20).to(device)\n",
        "print(\"\\nTraining model for sequence prediction (t+1 to t+20)...\")\n",
        "model_sequence_context_combined = train_fno_context_combined(model_sequence_context_combined, train_loader ,num_epochs, device)\n",
        "torch.save(model_sequence_context.state_dict(), 'fno_model_sequence_context_combined.pth')"
      ]
    },
    {
      "cell_type": "code",
      "execution_count": 113,
      "metadata": {},
      "outputs": [
        {
          "name": "stderr",
          "output_type": "stream",
          "text": [
            "C:\\Users\\FisherMoon25\\AppData\\Local\\Temp\\ipykernel_3888\\2290516242.py:16: FutureWarning: You are using `torch.load` with `weights_only=False` (the current default value), which uses the default pickle module implicitly. It is possible to construct malicious pickle data which will execute arbitrary code during unpickling (See https://github.com/pytorch/pytorch/blob/main/SECURITY.md#untrusted-models for more details). In a future release, the default value for `weights_only` will be flipped to `True`. This limits the functions that could be executed during unpickling. Arbitrary objects will no longer be allowed to be loaded via this mode unless they are explicitly allowlisted by the user via `torch.serialization.add_safe_globals`. We recommend you start setting `weights_only=True` for any use case where you don't have full control of the loaded file. Please open an issue on GitHub for any issues related to this experimental feature.\n",
            "  model.load_state_dict(torch.load( 'fno_model_sequence_context.pth'))\n"
          ]
        },
        {
          "data": {
            "image/png": "[encoded data removed]",
            "text/plain": [
              "<Figure size 1000x800 with 1 Axes>"
            ]
          },
          "metadata": {},
          "output_type": "display_data"
        }
      ],
      "source": [
        "test_initial_conditions = np.load(os.path.join(output_dir, 'test_inputs_multi.npy'))\n",
        "test_solutions = np.load(os.path.join(output_dir, 'test_outputs_multi.npy'))\n",
        "\n",
        "time_steps_to_predict =1\n",
        "\n",
        "test_initial_conditions_tensor = torch.tensor(test_initial_conditions, dtype=torch.float32)\n",
        "test_solutions_tensor = torch.tensor(test_solutions[:, time_steps_to_predict-1, :], dtype=torch.float32)  # Solution at the final desired time step\n",
        "\n",
        "test_dataset = TensorDataset(test_initial_conditions_tensor, test_solutions_tensor)\n",
        "test_loader = DataLoader(test_dataset, batch_size=1, shuffle=False)\n",
        "\n",
        "model = FNO1d(modes=32, width=64,input_channels=4,output_channels=20).to(device)\n",
        "\n",
        "model.load_state_dict(torch.load( 'fno_model_sequence_context.pth'))\n",
        "\n",
        "model.to(device)\n",
        "model.eval()\n",
        "\n",
        "all_predictions_1 = []\n",
        "all_targets_1 = []\n",
        "all_inputs_1 = []\n",
        "all_pred = []\n",
        "\n",
        "with torch.no_grad():\n",
        "   for inputs, targets in test_loader:\n",
        "        inputs, targets = inputs.to(device), targets.to(device)\n",
        "        grid = torch.linspace(0, L, inputs.shape[-1]).unsqueeze(0).unsqueeze(1).to(device)\n",
        "        inputs = torch.cat((inputs, grid), dim=1)\n",
        "\n",
        "        predictions = []\n",
        "        current_input = inputs\n",
        "        \n",
        "        while len(predictions) * 20 < time_steps_to_predict:\n",
        "           \n",
        "            current_input = current_input.permute(0, 2, 1)\n",
        "            outputs = model(current_input)\n",
        "            outputs = outputs.squeeze().cpu().numpy()\n",
        "            predictions.append(outputs)\n",
        "            # Prepare for next iteration\n",
        "            last_output = outputs[-3:]\n",
        "            last_output_tensor = torch.tensor(last_output, dtype=torch.float32).to(device)\n",
        "            last_output_tensor = last_output_tensor.unsqueeze(0)  # Add batch and channel dimensions\n",
        "            current_input = torch.cat((last_output_tensor, grid), dim=1)\n",
        "\n",
        "        predictions = np.concatenate(predictions, axis=0)[:time_steps_to_predict]\n",
        "        targets = targets.squeeze().cpu().numpy()\n",
        "        inputs = inputs.squeeze().cpu().numpy()\n",
        "        all_inputs_1.append(inputs)\n",
        "        all_predictions_1.append(predictions[-1])  # Only the final prediction\n",
        "        all_targets_1.append(targets)\n",
        "        all_pred.append(predictions)\n",
        "\n",
        "all_predictions_1 = np.array(all_predictions_1)\n",
        "all_targets_1 = np.array(all_targets_1)\n",
        "\n",
        "\n",
        "# Plot the results\n",
        "for idx in range(1):  \n",
        "    plt.figure(figsize=(10, 8))\n",
        "    plt.plot(all_targets_1[idx], label=\"Ground Truth\")\n",
        "    plt.plot(all_predictions_1[idx], label=\"Prediction\")\n",
        "    plt.title(f\"Sample {idx}\")\n",
        "    plt.xlabel(\"Spatial Coordinate\")\n",
        "    plt.ylabel(\"Value\")\n",
        "    plt.legend()\n",
        "    plt.show()\n"
      ]
    }
  ],
  "metadata": {
    "colab": {
      "machine_shape": "hm",
      "provenance": []
    },
    "kernelspec": {
      "display_name": "Python 3",
      "name": "python3"
    },
    "language_info": {
      "codemirror_mode": {
        "name": "ipython",
        "version": 3
      },
      "file_extension": ".py",
      "mimetype": "text/x-python",
      "name": "python",
      "nbconvert_exporter": "python",
      "pygments_lexer": "ipython3",
      "version": "3.11.9"
    }
  },
  "nbformat": 4,
  "nbformat_minor": 0
}
